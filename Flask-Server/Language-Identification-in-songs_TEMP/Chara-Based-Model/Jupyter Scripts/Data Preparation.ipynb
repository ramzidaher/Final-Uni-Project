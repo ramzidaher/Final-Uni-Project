{
 "cells": [
  {
   "cell_type": "code",
   "execution_count": 3,
   "metadata": {},
   "outputs": [
    {
     "name": "stderr",
     "output_type": "stream",
     "text": [
      "2024-03-12 15:19:41.737238: I tensorflow/core/util/port.cc:113] oneDNN custom operations are on. You may see slightly different numerical results due to floating-point round-off errors from different computation orders. To turn them off, set the environment variable `TF_ENABLE_ONEDNN_OPTS=0`.\n",
      "2024-03-12 15:19:41.757970: I external/local_tsl/tsl/cuda/cudart_stub.cc:31] Could not find cuda drivers on your machine, GPU will not be used.\n",
      "2024-03-12 15:19:41.870763: E external/local_xla/xla/stream_executor/cuda/cuda_dnn.cc:9261] Unable to register cuDNN factory: Attempting to register factory for plugin cuDNN when one has already been registered\n",
      "2024-03-12 15:19:41.870837: E external/local_xla/xla/stream_executor/cuda/cuda_fft.cc:607] Unable to register cuFFT factory: Attempting to register factory for plugin cuFFT when one has already been registered\n",
      "2024-03-12 15:19:41.888517: E external/local_xla/xla/stream_executor/cuda/cuda_blas.cc:1515] Unable to register cuBLAS factory: Attempting to register factory for plugin cuBLAS when one has already been registered\n",
      "2024-03-12 15:19:41.927230: I external/local_tsl/tsl/cuda/cudart_stub.cc:31] Could not find cuda drivers on your machine, GPU will not be used.\n",
      "2024-03-12 15:19:41.928368: I tensorflow/core/platform/cpu_feature_guard.cc:182] This TensorFlow binary is optimized to use available CPU instructions in performance-critical operations.\n",
      "To enable the following instructions: AVX2 AVX_VNNI FMA, in other operations, rebuild TensorFlow with the appropriate compiler flags.\n",
      "2024-03-12 15:19:42.682862: W tensorflow/compiler/tf2tensorrt/utils/py_utils.cc:38] TF-TRT Warning: Could not find TensorRT\n"
     ]
    }
   ],
   "source": [
    "import pandas as pd\n",
    "import numpy as np\n",
    "import unicodedata\n",
    "import json\n",
    "from sklearn.model_selection import train_test_split\n",
    "from sklearn.preprocessing import MultiLabelBinarizer\n",
    "from tensorflow.keras.preprocessing.sequence import pad_sequences\n"
   ]
  },
  {
   "cell_type": "markdown",
   "metadata": {},
   "source": [
    "# Lyrics Text Normalization\n",
    "\n",
    "This script reads an Excel file containing lyrics data, normalizes the text in the lyrics, and saves the modified data back to an Excel file.\n",
    "\n",
    "## Steps\n",
    "\n",
    "1. **Read the Excel file**: The pandas library is used to read the Excel file containing the lyrics data. The file path is specified in the code.\n",
    "\n",
    "2. **Normalize text**: A function `normalize_text` is defined to normalize the text in the lyrics. This function converts the text to lowercase, normalizes whitespace, and keeps only certain punctuation marks. It uses the `unicodedata` library to categorize characters.\n",
    "\n",
    "3. **Apply the normalization function**: The `normalize_text` function is applied to the 'Lyrics' column of the DataFrame. The normalized texts are stored in a new column 'NormalizedText'.\n",
    "\n",
    "4. **Save the modified DataFrame**: The modified DataFrame, which now includes the normalized text, is saved to an Excel file. The output file path is specified in the code.\n"
   ]
  },
  {
   "cell_type": "code",
   "execution_count": 4,
   "metadata": {},
   "outputs": [],
   "source": [
    "import pandas as pd\n",
    "import unicodedata\n",
    "df = pd.read_excel('./DataSets/Lyrics Training Data GPT Generated.xlsx', engine='openpyxl')\n",
    "\n",
    "def normalize_text(texts):\n",
    "    normalized_texts = []\n",
    "    keep_punctuation = {\"'\", \"-\", \"’\"}  # Add or remove characters as needed\n",
    "    for text in texts:\n",
    "        try:\n",
    "            text = str(text).lower()  # Convert to lowercase and ensure text is string\n",
    "            text = ' '.join(text.split())  # Normalize whitespace\n",
    "            # Iterate over each character in the text\n",
    "            # and include it in the output if it meets certain conditions\n",
    "            text = ''.join(\n",
    "                char for char in text \n",
    "                if unicodedata.category(char)[0] in ('L', 'N', 'Z')  # Check if the character is a letter, number, or space\n",
    "                or char in keep_punctuation  # Or if the character is in the custom set of punctuation marks to keep\n",
    "            )\n",
    "\n",
    "            normalized_texts.append(text)\n",
    "        except Exception as e:\n",
    "            print(f\"Error processing text: {text} with error {e}\")\n",
    "            normalized_texts.append(text)  # Append original text or handle as needed\n",
    "    return normalized_texts\n",
    "\n",
    "\n",
    "# Normalize text\n",
    "normalized_texts = normalize_text(df['Lyrics'].astype(str))\n",
    "\n",
    "# Add the normalized text to the dataframe\n",
    "df['NormalizedText'] = normalized_texts\n",
    "\n",
    "# Save the modified DataFrame\n",
    "output_path = './New DataSets/normalized_text.xlsx'  # Replace with a path that is not synced\n",
    "df.to_excel(output_path, engine='openpyxl', index=False)\n"
   ]
  },
  {
   "cell_type": "markdown",
   "metadata": {},
   "source": [
    "# Text Processing and Label Binarization in Python\n",
    "\n",
    "This script reads an Excel file containing normalized text data, processes the text, converts language labels into a binary matrix, and writes the processed data back to a new Excel file.\n",
    "\n",
    "## Libraries Used\n",
    "- pandas: For data manipulation and analysis.\n",
    "- sklearn.preprocessing: Provides a utility class MultiLabelBinarizer for transforming multiclass labels to binary labels.\n",
    "\n",
    "## Steps\n",
    "1. The required libraries are imported.\n",
    "2. The normalized Excel file is read into a pandas DataFrame.\n",
    "3. The 'Languages' column of the DataFrame is processed to convert the comma-separated string of languages into a list of languages.\n",
    "4. The MultiLabelBinarizer is initialized.\n",
    "5. The language labels are converted into a binary matrix.\n",
    "6. A new DataFrame is created for the binary matrix with appropriate column names.\n",
    "7. The original DataFrame is concatenated with the new binary matrix DataFrame.\n",
    "8. The resulting DataFrame is written to a new Excel file.\n",
    "\n",
    "Please ensure that the required libraries are installed in your Python environment before running this script.\n"
   ]
  },
  {
   "cell_type": "code",
   "execution_count": 5,
   "metadata": {},
   "outputs": [
    {
     "name": "stdout",
     "output_type": "stream",
     "text": [
      "Combined DataFrame saved to ./New DataSets/combined_normalized_text.xlsx\n"
     ]
    }
   ],
   "source": [
    "import pandas as pd\n",
    "from sklearn.preprocessing import MultiLabelBinarizer\n",
    "\n",
    "# Step 1: Load the dataset\n",
    "df = pd.read_excel(\"./New DataSets/normalized_text.xlsx\")  # Update the path to where you've stored the file\n",
    "\n",
    "# Step 2: Process the 'languages' column (ensure the column name is consistent)\n",
    "df['Languages'] = df['languages'].apply(lambda x: [lang.strip() for lang in x.split(',') if lang.strip()])\n",
    "\n",
    "# Initialize MultiLabelBinarizer\n",
    "mlb = MultiLabelBinarizer()\n",
    "\n",
    "# Convert language labels into a binary matrix format\n",
    "binary_matrix = mlb.fit_transform(df['Languages'])  # Ensure we use the corrected 'Languages' column\n",
    "\n",
    "# Convert the binary matrix back into a DataFrame for easy viewing/manipulation\n",
    "binary_matrix_df = pd.DataFrame(binary_matrix, columns=mlb.classes_)\n",
    "\n",
    "# Merge the binary matrix with the original DataFrame\n",
    "df_combined = pd.concat([df, binary_matrix_df], axis=1)\n",
    "\n",
    "# Save the combined DataFrame to a new Excel file\n",
    "output_file_path = \"./New DataSets/combined_normalized_text.xlsx\"  # Specify your desired output file path\n",
    "df_combined.to_excel(output_file_path, index=False)\n",
    "\n",
    "print(f\"Combined DataFrame saved to {output_file_path}\")\n"
   ]
  },
  {
   "cell_type": "markdown",
   "metadata": {},
   "source": [
    "This Python code snippet is part of a data analysis process performed on a DataFrame `df`. The DataFrame `df` contains a column named 'Languages'.\n",
    "\n",
    "The code applies a function to each element in the 'Languages' column. This function takes a list of languages (assumed to be the input), sorts the list, joins the sorted list into a string with each language separated by a comma, and returns the resulting string.\n",
    "\n",
    "After the function is applied to each element in the 'Languages' column, the `unique()` function is called to get all unique resulting strings. This could be useful to understand the variety of language combinations in the data.\n",
    "\n"
   ]
  },
  {
   "cell_type": "code",
   "execution_count": 6,
   "metadata": {},
   "outputs": [
    {
     "name": "stdout",
     "output_type": "stream",
     "text": [
      "[',,,,A,E,F,N,R,R' ',,,,D,E,E,K,O,S' ',,,,E,H,I,N,R,U' ',,,,E,E,N,P,S,T'\n",
      " ',,,,E,F,I,N,R,T' ',,E,F,N,R' ',,A,F,R,R' ',,E,K,N,O' ',,E,I,S,T'\n",
      " ',,E,N,S,W' ',,D,E,E,N' ',,A,E,N,R' ',,E,E,N,S' ',,,,E,F,N,R' ',,E,I,N,S'\n",
      " ' ,,,E,P,S,T']\n"
     ]
    }
   ],
   "source": [
    "print(df['languages'].apply(lambda x: ','.join(sorted(x))).unique())\n"
   ]
  },
  {
   "cell_type": "markdown",
   "metadata": {},
   "source": [
    "# Character Vocabulary\n",
    "\n",
    "This Python script is used to process a dataset of normalized texts and create mappings between characters and indices. These mappings can be useful in many natural language processing tasks, such as text generation or machine translation.\n",
    "\n",
    "Here is a step-by-step explanation of the code:\n",
    "\n",
    "1. Import necessary libraries: `pandas` for data manipulation and `json` for saving data in JSON format.\n",
    "\n",
    "2. Attempt to load the normalized text data from an Excel file. If the file does not exist, an error message is printed and the script is stopped.\n",
    "\n",
    "3. Extract the 'NormalizedText' column from the DataFrame and convert it to a list.\n",
    "\n",
    "4. Concatenate all normalized texts into one large string.\n",
    "\n",
    "5. Identify and sort unique characters in the concatenated text.\n",
    "\n",
    "6. Create a mapping from unique characters to indices. An 'UNK' (unknown) token is added for unseen characters.\n",
    "\n",
    "7. Create a reverse mapping from indices to characters.\n",
    "\n",
    "8. Display the mappings and the total number of unique characters (including 'UNK').\n",
    "\n",
    "9. Save the mappings in JSON format for future use."
   ]
  },
  {
   "cell_type": "code",
   "execution_count": 7,
   "metadata": {},
   "outputs": [
    {
     "name": "stdout",
     "output_type": "stream",
     "text": [
      "Character to Index Mapping:\n",
      "{'UNK': 0, ' ': 1, \"'\": 2, '-': 3, '0': 4, '1': 5, '2': 6, '3': 7, '6': 8, '9': 9, 'a': 10, 'b': 11, 'c': 12, 'd': 13, 'e': 14, 'f': 15, 'g': 16, 'h': 17, 'i': 18, 'j': 19, 'k': 20, 'l': 21, 'm': 22, 'n': 23, 'o': 24, 'p': 25, 'q': 26, 'r': 27, 's': 28, 't': 29, 'u': 30, 'v': 31, 'w': 32, 'x': 33, 'y': 34, 'z': 35, 'ß': 36, 'à': 37, 'á': 38, 'â': 39, 'ã': 40, 'ä': 41, 'æ': 42, 'ç': 43, 'è': 44, 'é': 45, 'ê': 46, 'í': 47, 'î': 48, 'ï': 49, 'ñ': 50, 'ó': 51, 'ô': 52, 'ö': 53, 'ù': 54, 'ú': 55, 'û': 56, 'ü': 57, 'œ': 58, 'а': 59, 'б': 60, 'в': 61, 'г': 62, 'д': 63, 'е': 64, 'ж': 65, 'з': 66, 'и': 67, 'й': 68, 'к': 69, 'л': 70, 'м': 71, 'н': 72, 'о': 73, 'п': 74, 'р': 75, 'с': 76, 'т': 77, 'у': 78, 'х': 79, 'ц': 80, 'ч': 81, 'ш': 82, 'щ': 83, 'ъ': 84, 'ы': 85, 'ь': 86, 'ю': 87, 'я': 88, 'ё': 89, 'ء': 90, 'آ': 91, 'أ': 92, 'إ': 93, 'ئ': 94, 'ا': 95, 'ب': 96, 'ة': 97, 'ت': 98, 'ث': 99, 'ج': 100, 'ح': 101, 'خ': 102, 'د': 103, 'ذ': 104, 'ر': 105, 'ز': 106, 'س': 107, 'ش': 108, 'ص': 109, 'ض': 110, 'ط': 111, 'ظ': 112, 'ع': 113, 'غ': 114, 'ف': 115, 'ق': 116, 'ك': 117, 'ل': 118, 'م': 119, 'ن': 120, 'ه': 121, 'و': 122, 'ى': 123, 'ي': 124, 'ڨ': 125, 'अ': 126, 'आ': 127, 'इ': 128, 'ई': 129, 'उ': 130, 'ए': 131, 'ओ': 132, 'औ': 133, 'क': 134, 'ख': 135, 'ग': 136, 'घ': 137, 'च': 138, 'छ': 139, 'ज': 140, 'ट': 141, 'ड': 142, 'ण': 143, 'त': 144, 'थ': 145, 'द': 146, 'ध': 147, 'न': 148, 'प': 149, 'फ': 150, 'ब': 151, 'भ': 152, 'म': 153, 'य': 154, 'र': 155, 'ल': 156, 'व': 157, 'श': 158, 'ष': 159, 'स': 160, 'ह': 161, '’': 162, '가': 163, '각': 164, '간': 165, '갇': 166, '갈': 167, '감': 168, '강': 169, '같': 170, '개': 171, '거': 172, '걱': 173, '건': 174, '걷': 175, '걸': 176, '검': 177, '겁': 178, '것': 179, '게': 180, '겠': 181, '겨': 182, '격': 183, '견': 184, '겸': 185, '경': 186, '계': 187, '고': 188, '곤': 189, '곧': 190, '골': 191, '곳': 192, '공': 193, '과': 194, '관': 195, '광': 196, '괜': 197, '괴': 198, '교': 199, '구': 200, '굳': 201, '굴': 202, '그': 203, '근': 204, '금': 205, '기': 206, '긴': 207, '길': 208, '김': 209, '까': 210, '깔': 211, '깜': 212, '깨': 213, '깰': 214, '꺼': 215, '꺾': 216, '께': 217, '껴': 218, '꼈': 219, '꼬': 220, '꼭': 221, '꼴': 222, '꽃': 223, '꾸': 224, '꿈': 225, '꿔': 226, '끄': 227, '끌': 228, '끔': 229, '끝': 230, '끼': 231, '끽': 232, '나': 233, '낙': 234, '난': 235, '날': 236, '남': 237, '낯': 238, '내': 239, '낼': 240, '냐': 241, '냥': 242, '너': 243, '넌': 244, '널': 245, '넘': 246, '넣': 247, '네': 248, '노': 249, '녹': 250, '놀': 251, '높': 252, '놓': 253, '놔': 254, '누': 255, '눈': 256, '눴': 257, '느': 258, '는': 259, '늘': 260, '능': 261, '니': 262, '닌': 263, '님': 264, '다': 265, '닥': 266, '달': 267, '담': 268, '답': 269, '당': 270, '닿': 271, '대': 272, '댈': 273, '더': 274, '던': 275, '데': 276, '도': 277, '독': 278, '돌': 279, '돼': 280, '됐': 281, '되': 282, '된': 283, '두': 284, '둘': 285, '둠': 286, '둥': 287, '둬': 288, '뒤': 289, '뒷': 290, '드': 291, '득': 292, '든': 293, '들': 294, '듯': 295, '디': 296, '따': 297, '딱': 298, '땅': 299, '때': 300, '땐': 301, '떠': 302, '떤': 303, '떨': 304, '또': 305, '똑': 306, '뚫': 307, '뛰': 308, '뜨': 309, '뜻': 310, '띠': 311, '라': 312, '락': 313, '란': 314, '랄': 315, '람': 316, '랐': 317, '랑': 318, '래': 319, '러': 320, '런': 321, '럴': 322, '럼': 323, '럽': 324, '렇': 325, '레': 326, '렘': 327, '려': 328, '력': 329, '렵': 330, '렸': 331, '로': 332, '록': 333, '롭': 334, '루': 335, '뤄': 336, '르': 337, '른': 338, '를': 339, '름': 340, '리': 341, '린': 342, '릴': 343, '림': 344, '릿': 345, '링': 346, '마': 347, '막': 348, '만': 349, '말': 350, '맘': 351, '맛': 352, '맞': 353, '매': 354, '맹': 355, '머': 356, '먹': 357, '먼': 358, '멀': 359, '멋': 360, '메': 361, '멘': 362, '며': 363, '면': 364, '모': 365, '목': 366, '몫': 367, '몰': 368, '몸': 369, '못': 370, '묘': 371, '무': 372, '묵': 373, '문': 374, '물': 375, '뭐': 376, '미': 377, '믿': 378, '밀': 379, '바': 380, '반': 381, '발': 382, '밝': 383, '밟': 384, '밤': 385, '방': 386, '백': 387, '버': 388, '번': 389, '법': 390, '베': 391, '벽': 392, '변': 393, '별': 394, '볕': 395, '보': 396, '복': 397, '본': 398, '볼': 399, '봄': 400, '봐': 401, '봤': 402, '부': 403, '분': 404, '불': 405, '비': 406, '빗': 407, '빛': 408, '빠': 409, '빨': 410, '빴': 411, '빼': 412, '뻐': 413, '뻗': 414, '쁨': 415, '사': 416, '삭': 417, '살': 418, '삶': 419, '상': 420, '새': 421, '색': 422, '생': 423, '서': 424, '선': 425, '설': 426, '성': 427, '세': 428, '센': 429, '셋': 430, '셔': 431, '소': 432, '속': 433, '손': 434, '쇠': 435, '쇼': 436, '수': 437, '숙': 438, '순': 439, '술': 440, '숨': 441, '숲': 442, '쉬': 443, '쉽': 444, '슈': 445, '스': 446, '슴': 447, '습': 448, '시': 449, '신': 450, '실': 451, '심': 452, '싶': 453, '싸': 454, '싼': 455, '써': 456, '썩': 457, '쓰': 458, '쓸': 459, '아': 460, '악': 461, '안': 462, '앉': 463, '않': 464, '알': 465, '앗': 466, '았': 467, '앞': 468, '애': 469, '야': 470, '약': 471, '양': 472, '얘': 473, '어': 474, '억': 475, '언': 476, '얼': 477, '없': 478, '엊': 479, '에': 480, '엔': 481, '엤': 482, '여': 483, '연': 484, '열': 485, '엽': 486, '였': 487, '영': 488, '옆': 489, '예': 490, '옛': 491, '오': 492, '온': 493, '올': 494, '옷': 495, '와': 496, '왔': 497, '외': 498, '요': 499, '용': 500, '우': 501, '운': 502, '울': 503, '움': 504, '웃': 505, '워': 506, '원': 507, '위': 508, '유': 509, '으': 510, '은': 511, '을': 512, '음': 513, '의': 514, '이': 515, '익': 516, '인': 517, '일': 518, '잃': 519, '임': 520, '입': 521, '있': 522, '잊': 523, '자': 524, '작': 525, '잔': 526, '잖': 527, '잘': 528, '잠': 529, '잡': 530, '장': 531, '재': 532, '저': 533, '적': 534, '전': 535, '점': 536, '정': 537, '제': 538, '젠': 539, '져': 540, '졌': 541, '조': 542, '족': 543, '좀': 544, '좋': 545, '주': 546, '죽': 547, '준': 548, '줄': 549, '중': 550, '쥔': 551, '즐': 552, '즘': 553, '지': 554, '직': 555, '진': 556, '질': 557, '집': 558, '짓': 559, '짖': 560, '짜': 561, '짝': 562, '쩌': 563, '쩔': 564, '쯤': 565, '찍': 566, '차': 567, '찬': 568, '찮': 569, '참': 570, '찾': 571, '채': 572, '챙': 573, '처': 574, '척': 575, '천': 576, '첫': 577, '쳐': 578, '초': 579, '추': 580, '축': 581, '춤': 582, '춰': 583, '취': 584, '치': 585, '친': 586, '침': 587, '카': 588, '캄': 589, '컴': 590, '컷': 591, '켜': 592, '콘': 593, '콜': 594, '콤': 595, '쿵': 596, '크': 597, '큰': 598, '큼': 599, '키': 600, '타': 601, '탈': 602, '탐': 603, '태': 604, '터': 605, '털': 606, '테': 607, '토': 608, '툭': 609, '트': 610, '특': 611, '틀': 612, '틈': 613, '파': 614, '판': 615, '팔': 616, '팝': 617, '팰': 618, '퍼': 619, '펀': 620, '펼': 621, '포': 622, '표': 623, '푸': 624, '풀': 625, '품': 626, '픈': 627, '필': 628, '핑': 629, '하': 630, '한': 631, '할': 632, '함': 633, '항': 634, '해': 635, '햇': 636, '했': 637, '행': 638, '향': 639, '험': 640, '헤': 641, '혀': 642, '혔': 643, '혼': 644, '홀': 645, '홍': 646, '화': 647, '환': 648, '활': 649, '황': 650, '회': 651, '후': 652, '훅': 653, '흐': 654, '흔': 655, '흥': 656, '희': 657, '히': 658, '힘': 659}\n",
      "\n",
      "Index to Character Mapping:\n",
      "{0: 'UNK', 1: ' ', 2: \"'\", 3: '-', 4: '0', 5: '1', 6: '2', 7: '3', 8: '6', 9: '9', 10: 'a', 11: 'b', 12: 'c', 13: 'd', 14: 'e', 15: 'f', 16: 'g', 17: 'h', 18: 'i', 19: 'j', 20: 'k', 21: 'l', 22: 'm', 23: 'n', 24: 'o', 25: 'p', 26: 'q', 27: 'r', 28: 's', 29: 't', 30: 'u', 31: 'v', 32: 'w', 33: 'x', 34: 'y', 35: 'z', 36: 'ß', 37: 'à', 38: 'á', 39: 'â', 40: 'ã', 41: 'ä', 42: 'æ', 43: 'ç', 44: 'è', 45: 'é', 46: 'ê', 47: 'í', 48: 'î', 49: 'ï', 50: 'ñ', 51: 'ó', 52: 'ô', 53: 'ö', 54: 'ù', 55: 'ú', 56: 'û', 57: 'ü', 58: 'œ', 59: 'а', 60: 'б', 61: 'в', 62: 'г', 63: 'д', 64: 'е', 65: 'ж', 66: 'з', 67: 'и', 68: 'й', 69: 'к', 70: 'л', 71: 'м', 72: 'н', 73: 'о', 74: 'п', 75: 'р', 76: 'с', 77: 'т', 78: 'у', 79: 'х', 80: 'ц', 81: 'ч', 82: 'ш', 83: 'щ', 84: 'ъ', 85: 'ы', 86: 'ь', 87: 'ю', 88: 'я', 89: 'ё', 90: 'ء', 91: 'آ', 92: 'أ', 93: 'إ', 94: 'ئ', 95: 'ا', 96: 'ب', 97: 'ة', 98: 'ت', 99: 'ث', 100: 'ج', 101: 'ح', 102: 'خ', 103: 'د', 104: 'ذ', 105: 'ر', 106: 'ز', 107: 'س', 108: 'ش', 109: 'ص', 110: 'ض', 111: 'ط', 112: 'ظ', 113: 'ع', 114: 'غ', 115: 'ف', 116: 'ق', 117: 'ك', 118: 'ل', 119: 'م', 120: 'ن', 121: 'ه', 122: 'و', 123: 'ى', 124: 'ي', 125: 'ڨ', 126: 'अ', 127: 'आ', 128: 'इ', 129: 'ई', 130: 'उ', 131: 'ए', 132: 'ओ', 133: 'औ', 134: 'क', 135: 'ख', 136: 'ग', 137: 'घ', 138: 'च', 139: 'छ', 140: 'ज', 141: 'ट', 142: 'ड', 143: 'ण', 144: 'त', 145: 'थ', 146: 'द', 147: 'ध', 148: 'न', 149: 'प', 150: 'फ', 151: 'ब', 152: 'भ', 153: 'म', 154: 'य', 155: 'र', 156: 'ल', 157: 'व', 158: 'श', 159: 'ष', 160: 'स', 161: 'ह', 162: '’', 163: '가', 164: '각', 165: '간', 166: '갇', 167: '갈', 168: '감', 169: '강', 170: '같', 171: '개', 172: '거', 173: '걱', 174: '건', 175: '걷', 176: '걸', 177: '검', 178: '겁', 179: '것', 180: '게', 181: '겠', 182: '겨', 183: '격', 184: '견', 185: '겸', 186: '경', 187: '계', 188: '고', 189: '곤', 190: '곧', 191: '골', 192: '곳', 193: '공', 194: '과', 195: '관', 196: '광', 197: '괜', 198: '괴', 199: '교', 200: '구', 201: '굳', 202: '굴', 203: '그', 204: '근', 205: '금', 206: '기', 207: '긴', 208: '길', 209: '김', 210: '까', 211: '깔', 212: '깜', 213: '깨', 214: '깰', 215: '꺼', 216: '꺾', 217: '께', 218: '껴', 219: '꼈', 220: '꼬', 221: '꼭', 222: '꼴', 223: '꽃', 224: '꾸', 225: '꿈', 226: '꿔', 227: '끄', 228: '끌', 229: '끔', 230: '끝', 231: '끼', 232: '끽', 233: '나', 234: '낙', 235: '난', 236: '날', 237: '남', 238: '낯', 239: '내', 240: '낼', 241: '냐', 242: '냥', 243: '너', 244: '넌', 245: '널', 246: '넘', 247: '넣', 248: '네', 249: '노', 250: '녹', 251: '놀', 252: '높', 253: '놓', 254: '놔', 255: '누', 256: '눈', 257: '눴', 258: '느', 259: '는', 260: '늘', 261: '능', 262: '니', 263: '닌', 264: '님', 265: '다', 266: '닥', 267: '달', 268: '담', 269: '답', 270: '당', 271: '닿', 272: '대', 273: '댈', 274: '더', 275: '던', 276: '데', 277: '도', 278: '독', 279: '돌', 280: '돼', 281: '됐', 282: '되', 283: '된', 284: '두', 285: '둘', 286: '둠', 287: '둥', 288: '둬', 289: '뒤', 290: '뒷', 291: '드', 292: '득', 293: '든', 294: '들', 295: '듯', 296: '디', 297: '따', 298: '딱', 299: '땅', 300: '때', 301: '땐', 302: '떠', 303: '떤', 304: '떨', 305: '또', 306: '똑', 307: '뚫', 308: '뛰', 309: '뜨', 310: '뜻', 311: '띠', 312: '라', 313: '락', 314: '란', 315: '랄', 316: '람', 317: '랐', 318: '랑', 319: '래', 320: '러', 321: '런', 322: '럴', 323: '럼', 324: '럽', 325: '렇', 326: '레', 327: '렘', 328: '려', 329: '력', 330: '렵', 331: '렸', 332: '로', 333: '록', 334: '롭', 335: '루', 336: '뤄', 337: '르', 338: '른', 339: '를', 340: '름', 341: '리', 342: '린', 343: '릴', 344: '림', 345: '릿', 346: '링', 347: '마', 348: '막', 349: '만', 350: '말', 351: '맘', 352: '맛', 353: '맞', 354: '매', 355: '맹', 356: '머', 357: '먹', 358: '먼', 359: '멀', 360: '멋', 361: '메', 362: '멘', 363: '며', 364: '면', 365: '모', 366: '목', 367: '몫', 368: '몰', 369: '몸', 370: '못', 371: '묘', 372: '무', 373: '묵', 374: '문', 375: '물', 376: '뭐', 377: '미', 378: '믿', 379: '밀', 380: '바', 381: '반', 382: '발', 383: '밝', 384: '밟', 385: '밤', 386: '방', 387: '백', 388: '버', 389: '번', 390: '법', 391: '베', 392: '벽', 393: '변', 394: '별', 395: '볕', 396: '보', 397: '복', 398: '본', 399: '볼', 400: '봄', 401: '봐', 402: '봤', 403: '부', 404: '분', 405: '불', 406: '비', 407: '빗', 408: '빛', 409: '빠', 410: '빨', 411: '빴', 412: '빼', 413: '뻐', 414: '뻗', 415: '쁨', 416: '사', 417: '삭', 418: '살', 419: '삶', 420: '상', 421: '새', 422: '색', 423: '생', 424: '서', 425: '선', 426: '설', 427: '성', 428: '세', 429: '센', 430: '셋', 431: '셔', 432: '소', 433: '속', 434: '손', 435: '쇠', 436: '쇼', 437: '수', 438: '숙', 439: '순', 440: '술', 441: '숨', 442: '숲', 443: '쉬', 444: '쉽', 445: '슈', 446: '스', 447: '슴', 448: '습', 449: '시', 450: '신', 451: '실', 452: '심', 453: '싶', 454: '싸', 455: '싼', 456: '써', 457: '썩', 458: '쓰', 459: '쓸', 460: '아', 461: '악', 462: '안', 463: '앉', 464: '않', 465: '알', 466: '앗', 467: '았', 468: '앞', 469: '애', 470: '야', 471: '약', 472: '양', 473: '얘', 474: '어', 475: '억', 476: '언', 477: '얼', 478: '없', 479: '엊', 480: '에', 481: '엔', 482: '엤', 483: '여', 484: '연', 485: '열', 486: '엽', 487: '였', 488: '영', 489: '옆', 490: '예', 491: '옛', 492: '오', 493: '온', 494: '올', 495: '옷', 496: '와', 497: '왔', 498: '외', 499: '요', 500: '용', 501: '우', 502: '운', 503: '울', 504: '움', 505: '웃', 506: '워', 507: '원', 508: '위', 509: '유', 510: '으', 511: '은', 512: '을', 513: '음', 514: '의', 515: '이', 516: '익', 517: '인', 518: '일', 519: '잃', 520: '임', 521: '입', 522: '있', 523: '잊', 524: '자', 525: '작', 526: '잔', 527: '잖', 528: '잘', 529: '잠', 530: '잡', 531: '장', 532: '재', 533: '저', 534: '적', 535: '전', 536: '점', 537: '정', 538: '제', 539: '젠', 540: '져', 541: '졌', 542: '조', 543: '족', 544: '좀', 545: '좋', 546: '주', 547: '죽', 548: '준', 549: '줄', 550: '중', 551: '쥔', 552: '즐', 553: '즘', 554: '지', 555: '직', 556: '진', 557: '질', 558: '집', 559: '짓', 560: '짖', 561: '짜', 562: '짝', 563: '쩌', 564: '쩔', 565: '쯤', 566: '찍', 567: '차', 568: '찬', 569: '찮', 570: '참', 571: '찾', 572: '채', 573: '챙', 574: '처', 575: '척', 576: '천', 577: '첫', 578: '쳐', 579: '초', 580: '추', 581: '축', 582: '춤', 583: '춰', 584: '취', 585: '치', 586: '친', 587: '침', 588: '카', 589: '캄', 590: '컴', 591: '컷', 592: '켜', 593: '콘', 594: '콜', 595: '콤', 596: '쿵', 597: '크', 598: '큰', 599: '큼', 600: '키', 601: '타', 602: '탈', 603: '탐', 604: '태', 605: '터', 606: '털', 607: '테', 608: '토', 609: '툭', 610: '트', 611: '특', 612: '틀', 613: '틈', 614: '파', 615: '판', 616: '팔', 617: '팝', 618: '팰', 619: '퍼', 620: '펀', 621: '펼', 622: '포', 623: '표', 624: '푸', 625: '풀', 626: '품', 627: '픈', 628: '필', 629: '핑', 630: '하', 631: '한', 632: '할', 633: '함', 634: '항', 635: '해', 636: '햇', 637: '했', 638: '행', 639: '향', 640: '험', 641: '헤', 642: '혀', 643: '혔', 644: '혼', 645: '홀', 646: '홍', 647: '화', 648: '환', 649: '활', 650: '황', 651: '회', 652: '후', 653: '훅', 654: '흐', 655: '흔', 656: '흥', 657: '희', 658: '히', 659: '힘'}\n",
      "\n",
      "Total unique characters (including 'UNK'): 660\n"
     ]
    }
   ],
   "source": [
    "import pandas as pd\n",
    "import json\n",
    "\n",
    "# Attempt to load the normalized text data with error handling\n",
    "file_path = './New DataSets/normalized_text.xlsx'  # Adjust the file path as needed\n",
    "try:\n",
    "    df = pd.read_excel(file_path, engine='openpyxl')\n",
    "except FileNotFoundError:\n",
    "    print(f\"The specified file {file_path} does not exist.\")\n",
    "    # Consider adding additional error handling here, such as exiting the script\n",
    "    raise\n",
    "\n",
    "normalized_texts = df['NormalizedText'].tolist()  # Assuming the column name is 'NormalizedText'\n",
    "\n",
    "# Concatenate all normalized texts into one large string\n",
    "all_text = ''.join(normalized_texts)\n",
    "\n",
    "# Identify and sort unique characters\n",
    "unique_chars = sorted(set(all_text))\n",
    "\n",
    "# Create a mapping from unique characters to indices, adding an 'UNK' (unknown) token for unseen characters\n",
    "char_to_index = {'UNK': 0}  # Start with 'UNK' token mapped to 0\n",
    "char_to_index.update({char: index + 1 for index, char in enumerate(unique_chars)})  # Shift indices by 1\n",
    "\n",
    "# Create a reverse mapping from indices to characters\n",
    "index_to_char = {index: char for char, index in char_to_index.items()}\n",
    "\n",
    "# Display the mappings and total unique characters\n",
    "print(\"Character to Index Mapping:\")\n",
    "print(char_to_index)\n",
    "print(\"\\nIndex to Character Mapping:\")\n",
    "print(index_to_char)\n",
    "print(f\"\\nTotal unique characters (including 'UNK'): {len(char_to_index)}\")\n",
    "\n",
    "# Save the mappings for future use\n",
    "with open('./New DataSets/JSON Files/char_to_index.json', 'w') as f:\n",
    "    json.dump(char_to_index, f)\n",
    "with open('./New DataSets/JSON Files/index_to_char.json', 'w') as f:\n",
    "    json.dump(index_to_char, f)\n"
   ]
  },
  {
   "cell_type": "markdown",
   "metadata": {},
   "source": [
    "# Encode Lyrics\n",
    "This Python function, `encode_lyrics`, is used to encode a list of lyrics into sequences of integers based on a character vocabulary. This is often a necessary step in preparing text data for machine learning models, especially those dealing with natural language processing.\n",
    "\n",
    "Here is a step-by-step explanation of the function:\n",
    "\n",
    "1. The function takes two parameters:\n",
    "    - `lyrics_list`: A list of strings, where each string is a set of lyrics.\n",
    "    - `char_to_index`: A dictionary mapping characters to their integer index.\n",
    "\n",
    "2. An empty list, `encoded_lyrics`, is initialized to hold the encoded lyrics.\n",
    "\n",
    "3. The function iterates over each set of lyrics in `lyrics_list`. For each set of lyrics, it encodes each character into an integer based on the `char_to_index` mapping. If a character is not found in the mapping, it is encoded as the 'UNK' (unknown) token.\n",
    "\n",
    "4. The encoded lyrics are appended to the `encoded_lyrics` list.\n",
    "\n",
    "5. After all lyrics have been encoded, the function returns the `encoded_lyrics` list."
   ]
  },
  {
   "cell_type": "code",
   "execution_count": 8,
   "metadata": {},
   "outputs": [],
   "source": [
    "def encode_lyrics(lyrics_list, char_to_index):\n",
    "    \"\"\"\n",
    "    Encodes a list of lyrics into sequences of integers based on a character vocabulary.\n",
    "\n",
    "    Parameters:\n",
    "    - lyrics_list: A list of strings, where each string is a set of lyrics.\n",
    "    - char_to_index: A dictionary mapping characters to their integer index.\n",
    "\n",
    "    Returns:\n",
    "    - A list of lists, where each sublist contains the encoded integers of the corresponding lyrics.\n",
    "    \"\"\"\n",
    "    encoded_lyrics = []\n",
    "    for lyrics in lyrics_list:\n",
    "        encoded_lyric = [char_to_index.get(char, char_to_index['UNK']) for char in lyrics]\n",
    "        encoded_lyrics.append(encoded_lyric)\n",
    "    return encoded_lyrics\n"
   ]
  },
  {
   "cell_type": "markdown",
   "metadata": {},
   "source": [
    "This Python script is used to load a character-to-index mapping from a JSON file and use it to encode the lyrics in a DataFrame. This is a continuation of the text processing pipeline for preparing data for machine learning models.\n",
    "\n",
    "Here is a step-by-step explanation of the code:\n",
    "\n",
    "1. The script assumes that the `char_to_index` mapping is already defined and loaded. If not, it will load the mapping from a JSON file named 'char_to_index.json'.\n",
    "\n",
    "2. The script opens the 'char_to_index.json' file in read mode. It uses the `json.load()` function to load the JSON data into the `char_to_index` dictionary.\n",
    "\n",
    "3. The script then encodes the lyrics in the DataFrame. It assumes that the DataFrame `df` has a column named 'NormalizedText' which contains the lyrics to be encoded.\n",
    "\n",
    "4. The `encode_lyrics()` function is called with the list of lyrics and the `char_to_index` mapping as arguments. The function returns a list of encoded lyrics, which is then added to the DataFrame `df` as a new column named 'EncodedLyrics'."
   ]
  },
  {
   "cell_type": "code",
   "execution_count": 9,
   "metadata": {},
   "outputs": [],
   "source": [
    "# Assuming 'char_to_index' is already defined and loaded\n",
    "# Load char_to_index mapping\n",
    "with open('./New DataSets/JSON Files/char_to_index.json', 'r') as f:\n",
    "    char_to_index = json.load(f)\n",
    "\n",
    "# Encode the lyrics\n",
    "df['EncodedLyrics'] = encode_lyrics(df['NormalizedText'].tolist(), char_to_index)\n"
   ]
  },
  {
   "cell_type": "code",
   "execution_count": 10,
   "metadata": {},
   "outputs": [
    {
     "name": "stdout",
     "output_type": "stream",
     "text": [
      "0    [18, 23, 1, 29, 17, 14, 1, 17, 14, 10, 27, 29,...\n",
      "1    [11, 14, 23, 14, 10, 29, 17, 1, 29, 17, 14, 1,...\n",
      "2    [18, 23, 1, 29, 17, 14, 1, 32, 17, 18, 28, 25,...\n",
      "3    [18, 23, 1, 29, 17, 14, 1, 13, 10, 27, 20, 14,...\n",
      "4    [18, 23, 1, 29, 17, 14, 1, 17, 14, 10, 27, 29,...\n",
      "Name: EncodedLyrics, dtype: object\n"
     ]
    }
   ],
   "source": [
    "# Display the first few sets of encoded lyrics\n",
    "print(df['EncodedLyrics'].head())\n"
   ]
  },
  {
   "cell_type": "markdown",
   "metadata": {},
   "source": [
    "# Sequence Padding\n",
    "This Python script is used to pad the encoded lyrics in a DataFrame to a uniform length. This is a common preprocessing step in machine learning tasks involving sequences, such as natural language processing or time series analysis.\n",
    "\n",
    "Here is a step-by-step explanation of the code:\n",
    "\n",
    "1. The script first determines the maximum sequence length to use for padding. This could be the length of the longest sequence in the 'EncodedLyrics' column of the DataFrame `df`, or it could be a predetermined length.\n",
    "\n",
    "2. The script then pads the sequences in the 'EncodedLyrics' column to the maximum length. It uses the `pad_sequences()` function from the `keras.preprocessing.sequence` module, with the `maxlen` parameter set to the maximum length and the `padding` parameter set to 'post' to add padding at the end of the sequences.\n",
    "\n",
    "3. The padded sequences are added to the DataFrame `df` as a new column named 'PaddedLyrics'.\n",
    "\n",
    "4. Finally, the script prints the first few padded sequences to verify that the padding was applied correctly.#"
   ]
  },
  {
   "cell_type": "code",
   "execution_count": 11,
   "metadata": {},
   "outputs": [
    {
     "name": "stdout",
     "output_type": "stream",
     "text": [
      "0    [18, 23, 1, 29, 17, 14, 1, 17, 14, 10, 27, 29,...\n",
      "1    [11, 14, 23, 14, 10, 29, 17, 1, 29, 17, 14, 1,...\n",
      "2    [18, 23, 1, 29, 17, 14, 1, 32, 17, 18, 28, 25,...\n",
      "3    [18, 23, 1, 29, 17, 14, 1, 13, 10, 27, 20, 14,...\n",
      "4    [18, 23, 1, 29, 17, 14, 1, 17, 14, 10, 27, 29,...\n",
      "Name: PaddedLyrics, dtype: object\n"
     ]
    }
   ],
   "source": [
    "# Determine the maximum sequence length you'd like to use\n",
    "# This could be the length of the longest sequence or a predetermined length\n",
    "max_length = max([len(seq) for seq in df['EncodedLyrics']])\n",
    "\n",
    "# Pad the sequences\n",
    "df['PaddedLyrics'] = list(pad_sequences(df['EncodedLyrics'], maxlen=max_length, padding='post'))\n",
    "\n",
    "# Display the first few padded sequences to verify\n",
    "print(df['PaddedLyrics'].head())\n"
   ]
  },
  {
   "cell_type": "code",
   "execution_count": 12,
   "metadata": {},
   "outputs": [
    {
     "name": "stdout",
     "output_type": "stream",
     "text": [
      "Index(['Lyrics', 'languages', 'Artist', 'Song Name', 'NormalizedText',\n",
      "       'EncodedLyrics', 'PaddedLyrics'],\n",
      "      dtype='object')\n"
     ]
    }
   ],
   "source": [
    "# Print all column names in the DataFrame\n",
    "print(df.columns)"
   ]
  },
  {
   "cell_type": "code",
   "execution_count": 13,
   "metadata": {},
   "outputs": [],
   "source": [
    "# Save the DataFrame with padded lyrics to a CSV file for future use\n",
    "df.to_csv('./New DataSets/processed_lyrics_data.csv', index=False)\n"
   ]
  },
  {
   "cell_type": "markdown",
   "metadata": {},
   "source": [
    "This Python script is used to transform a column of languages in a DataFrame into a binary array suitable for model training. This is a common preprocessing step in machine learning tasks involving multi-label classification.\n",
    "\n",
    "Here is a step-by-step explanation of the code:\n",
    "\n",
    "1. The script imports the `MultiLabelBinarizer` class from the `sklearn.preprocessing` module.\n",
    "\n",
    "2. The 'Languages' column in the DataFrame `df` is split into lists of languages. This is done by applying a function that splits each string in the 'Languages' column on commas. The resulting lists of languages are added to the DataFrame `df` as a new column named 'LanguagesList'.\n",
    "\n",
    "3. The `MultiLabelBinarizer` is instantiated.\n",
    "\n",
    "4. The `fit_transform()` method of the `MultiLabelBinarizer` is called with the 'LanguagesList' column as the argument. This method fits the binarizer to the data and then transforms the data into a binary array. The resulting binary array is stored in the `labels` variable.\n",
    "\n",
    "5. Now, `labels` is a NumPy array suitable for model training."
   ]
  },
  {
   "cell_type": "code",
   "execution_count": 14,
   "metadata": {},
   "outputs": [],
   "source": [
    "from sklearn.preprocessing import MultiLabelBinarizer\n",
    "\n",
    "# Split the 'languages' column into lists of languages\n",
    "df['languagesList'] = df['languages'].apply(lambda x: x.split(','))  # Adjust the splitting logic if necessary\n",
    "\n",
    "# Instantiate the MultiLabelBinarizer\n",
    "mlb = MultiLabelBinarizer()\n",
    "\n",
    "# Fit and transform the lists of languages to a binary array\n",
    "labels = mlb.fit_transform(df['languagesList'])\n",
    "\n",
    "# Now, 'labels' is a NumPy array suitable for model training\n"
   ]
  },
  {
   "cell_type": "markdown",
   "metadata": {},
   "source": [
    "# Code Documentation\n",
    "\n",
    "This Python script is used to save the preprocessed data and labels into binary files for efficient loading in future sessions. This is a common practice in machine learning workflows to avoid repeating the same preprocessing steps each time the script is run.\n",
    "\n",
    "Here is a step-by-step explanation of the code:\n",
    "\n",
    "1. The script assumes that the padded sequences are already prepared and stored in the 'PaddedLyrics' column of the DataFrame `df`. These sequences are converted to a NumPy array.\n",
    "\n",
    "2. The `numpy.save()` function is used to save the padded sequences and labels as binary files. The filenames 'padded_sequences.npy' and 'labels.npy' are used, but these can be adjusted as needed.\n",
    "\n",
    "3. Optionally, the classes from the `MultiLabelBinarizer` are saved for future reference. This is done by converting the classes to a list and saving them in a JSON file named 'label_classes.json'. This can be useful for interpreting the model's predictions in future sessions."
   ]
  },
  {
   "cell_type": "code",
   "execution_count": 15,
   "metadata": {},
   "outputs": [],
   "source": [
    "import numpy as np\n",
    "\n",
    "# Assuming 'padded_sequences' is already prepared\n",
    "padded_sequences = np.array(df['PaddedLyrics'].tolist())\n",
    "\n",
    "# Save the sequences and labels as binary files for efficient loading\n",
    "np.save('./New DataSets/NPY Files/padded_sequences.npy', padded_sequences)\n",
    "np.save('./New DataSets/NPY Files/labels.npy', labels)\n",
    "\n",
    "# Optionally, save the classes from the MultiLabelBinarizer for future reference\n",
    "with open('./New DataSets/JSON Files/label_classes.json', 'w') as f:\n",
    "    json.dump(mlb.classes_.tolist(), f)\n"
   ]
  },
  {
   "cell_type": "markdown",
   "metadata": {},
   "source": [
    "# Exploratory Data Analysis (EDA)\n",
    "\n",
    "This Python script is used to perform an exploratory data analysis (EDA) on a dataset of processed lyrics. It provides an overview of the dataset, checks for missing values, analyzes the length of the lyrics, and analyzes the distribution of languages in the lyrics.\n",
    "\n",
    "Here is a step-by-step explanation of the code:\n",
    "\n",
    "1. The necessary libraries are imported: `pandas` for data manipulation, `matplotlib.pyplot` and `seaborn` for data visualization, and `collections.Counter` for counting occurrences of elements.\n",
    "\n",
    "2. The dataset is loaded from a CSV file named 'processed_lyrics_data.csv' into a DataFrame `df`.\n",
    "\n",
    "3. An overview of the dataset is printed, including its shape and the first 5 rows.\n",
    "\n",
    "4. The number of missing values per column in the dataset is printed.\n",
    "\n",
    "5. The length of each text entry in the 'Lyrics' column is calculated and added to the DataFrame as a new column named 'lyrics_length'.\n",
    "\n",
    "6. A histogram of the lyrics lengths is plotted using `seaborn.histplot`.\n",
    "\n",
    "7. The 'Languages' column is split into lists of languages, which are added to the DataFrame as a new column named 'LanguageList'.\n",
    "\n",
    "8. The number of occurrences for each language is counted using `collections.Counter` and printed.\n",
    "\n",
    "9. A bar plot of the language distribution is created using `matplotlib.pyplot.bar`.\n",
    "\n",
    "10. The EDA results are saved to a CSV file named 'eda_results.csv' for future reference.\n",
    "\n"
   ]
  },
  {
   "cell_type": "code",
   "execution_count": 16,
   "metadata": {},
   "outputs": [
    {
     "name": "stdout",
     "output_type": "stream",
     "text": [
      "Data shape: (89, 7)\n",
      "First 5 rows:\n",
      "                                              Lyrics languages Artist  \\\n",
      "0  In the heart of the city, under a clouded sky,...  AR,FR,EN    GPT   \n",
      "1  Beneath the starless night, in the cold embrac...  AR,FR,EN    GPT   \n",
      "2  In the whisper of the rain, on the broken stre...  AR,FR,EN    GPT   \n",
      "3  In the darkest of nights, under a moonless sky...  AR,FR,EN    GPT   \n",
      "4  In the heart of the city, under a clouded sky,...  AR,FR,EN    GPT   \n",
      "\n",
      "  Song Name                                     NormalizedText  \\\n",
      "0       NaN  in the heart of the city under a clouded sky b...   \n",
      "1       NaN  beneath the starless night in the cold embrace...   \n",
      "2       NaN  in the whisper of the rain on the broken stree...   \n",
      "3       NaN  in the darkest of nights under a moonless sky ...   \n",
      "4       NaN  in the heart of the city under a clouded sky w...   \n",
      "\n",
      "                                       EncodedLyrics             PaddedLyrics  \n",
      "0  [18, 23, 1, 29, 17, 14, 1, 17, 14, 10, 27, 29,...  [18 23  1 ...  0  0  0]  \n",
      "1  [11, 14, 23, 14, 10, 29, 17, 1, 29, 17, 14, 1,...  [11 14 23 ...  0  0  0]  \n",
      "2  [18, 23, 1, 29, 17, 14, 1, 32, 17, 18, 28, 25,...  [18 23  1 ...  0  0  0]  \n",
      "3  [18, 23, 1, 29, 17, 14, 1, 13, 10, 27, 20, 14,...  [18 23  1 ...  0  0  0]  \n",
      "4  [18, 23, 1, 29, 17, 14, 1, 17, 14, 10, 27, 29,...  [18 23  1 ...  0  0  0]  \n",
      "Missing values per column:\n",
      "Lyrics             0\n",
      "languages          0\n",
      "Artist             2\n",
      "Song Name         55\n",
      "NormalizedText     0\n",
      "EncodedLyrics      0\n",
      "PaddedLyrics       0\n",
      "dtype: int64\n"
     ]
    },
    {
     "data": {
      "image/png": "[encoded data removed]",
      "text/plain": [
       "<Figure size 1200x600 with 1 Axes>"
      ]
     },
     "metadata": {},
     "output_type": "display_data"
    },
    {
     "data": {
      "image/png": "[encoded data removed]",
      "text/plain": [
       "<Figure size 1500x800 with 1 Axes>"
      ]
     },
     "metadata": {},
     "output_type": "display_data"
    }
   ],
   "source": [
    "import pandas as pd\n",
    "import matplotlib.pyplot as plt\n",
    "from collections import Counter\n",
    "import seaborn as sns\n",
    "\n",
    "# Load the dataset\n",
    "df = pd.read_csv('./New DataSets/processed_lyrics_data.csv')\n",
    "\n",
    "# Strip whitespace from the column names just in case there are any leading/trailing spaces\n",
    "df.columns = df.columns.str.strip()\n",
    "\n",
    "# Overview of the dataset\n",
    "print(\"Data shape:\", df.shape)\n",
    "print(\"First 5 rows:\")\n",
    "print(df.head())\n",
    "\n",
    "# Check for missing values\n",
    "print(\"Missing values per column:\")\n",
    "print(df.isnull().sum())\n",
    "\n",
    "# Text Analysis\n",
    "# Calculate the length of each text entry\n",
    "df['lyrics_length'] = df['Lyrics'].apply(len)\n",
    "\n",
    "# Plot the distribution of text lengths\n",
    "plt.figure(figsize=(12, 6))\n",
    "sns.histplot(df['lyrics_length'], bins=50, kde=False)\n",
    "plt.title('Distribution of Lyrics Lengths')\n",
    "plt.xlabel('Length of Lyrics')\n",
    "plt.ylabel('Number of Songs')\n",
    "plt.show()\n",
    "\n",
    "# Language Analysis\n",
    "# Split the 'Languages' column into lists\n",
    "df['LanguageList'] = df['languages'].str.split(',')\n",
    "\n",
    "# Flatten the list of languages and count the occurrences of each language\n",
    "all_languages = [lang for sublist in df['LanguageList'] for lang in sublist]\n",
    "language_counts = Counter(all_languages)\n",
    "\n",
    "# Make sure to remove any empty strings if there are any\n",
    "language_counts.pop('', None)\n",
    "\n",
    "# Plot the language distribution\n",
    "plt.figure(figsize=(15, 8))  # Increase figure size to accommodate all labels\n",
    "sns.barplot(x=list(language_counts.keys()), y=list(language_counts.values()))\n",
    "plt.title('Language Distribution')\n",
    "plt.xlabel('Language')\n",
    "plt.ylabel('Frequency')\n",
    "plt.xticks(rotation=90)  # Rotate labels to prevent overlap\n",
    "plt.show()\n",
    "\n",
    "# Save the EDA results to a CSV if needed\n",
    "eda_results = pd.DataFrame({\n",
    "    'language': language_counts.keys(),\n",
    "    'frequency': language_counts.values()\n",
    "})\n",
    "eda_results.to_csv('eda_results.csv', index=False)\n",
    "\n",
    "# Note: Replace '/path/to/processed_lyrics_data.csv' and '/path/to/eda_results.csv' with your actual file paths.\n"
   ]
  },
  {
   "cell_type": "code",
   "execution_count": null,
   "metadata": {},
   "outputs": [],
   "source": []
  },
  {
   "cell_type": "code",
   "execution_count": 17,
   "metadata": {},
   "outputs": [
    {
     "ename": "NameError",
     "evalue": "name 'y' is not defined",
     "output_type": "error",
     "traceback": [
      "\u001b[0;31m---------------------------------------------------------------------------\u001b[0m",
      "\u001b[0;31mNameError\u001b[0m                                 Traceback (most recent call last)",
      "Cell \u001b[0;32mIn[17], line 26\u001b[0m\n\u001b[1;32m     23\u001b[0m X \u001b[38;5;241m=\u001b[39m np\u001b[38;5;241m.\u001b[39marray(processed_data_df[\u001b[38;5;124m'\u001b[39m\u001b[38;5;124mPaddedLyrics\u001b[39m\u001b[38;5;124m'\u001b[39m]\u001b[38;5;241m.\u001b[39mtolist())\n\u001b[1;32m     25\u001b[0m \u001b[38;5;66;03m# Continue with your previous code for splitting the data\u001b[39;00m\n\u001b[0;32m---> 26\u001b[0m X_train, X_temp, y_train, y_temp \u001b[38;5;241m=\u001b[39m train_test_split(X, \u001b[43my\u001b[49m, test_size\u001b[38;5;241m=\u001b[39m\u001b[38;5;241m0.3\u001b[39m, random_state\u001b[38;5;241m=\u001b[39m\u001b[38;5;241m42\u001b[39m)\n\u001b[1;32m     27\u001b[0m X_val, X_test, y_val, y_test \u001b[38;5;241m=\u001b[39m train_test_split(X_temp, y_temp, test_size\u001b[38;5;241m=\u001b[39m\u001b[38;5;241m0.5\u001b[39m, random_state\u001b[38;5;241m=\u001b[39m\u001b[38;5;241m42\u001b[39m)\n\u001b[1;32m     29\u001b[0m \u001b[38;5;66;03m# Output the shapes of the splits to verify\u001b[39;00m\n",
      "\u001b[0;31mNameError\u001b[0m: name 'y' is not defined"
     ]
    }
   ],
   "source": [
    "import pandas as pd\n",
    "from sklearn.model_selection import train_test_split\n",
    "from sklearn.preprocessing import MultiLabelBinarizer\n",
    "import numpy as np\n",
    "import re\n",
    "import numpy as np\n",
    "import ast  # Import Abstract Syntax Trees module for converting string representations of lists to lists\n",
    "\n",
    "# Load the dataset\n",
    "processed_data_df = pd.read_csv('./New DataSets/processed_lyrics_data.csv')\n",
    "\n",
    "# Function to convert string representation of numbers to a list of integers\n",
    "def str_to_int_list(s):\n",
    "    # Use regular expression to find all numbers in the string\n",
    "    numbers = re.findall(r'\\d+', s)\n",
    "    # Convert found numbers to integers\n",
    "    return [int(num) for num in numbers]\n",
    "\n",
    "# Apply this conversion to the 'PaddedLyrics' column\n",
    "processed_data_df['PaddedLyrics'] = processed_data_df['PaddedLyrics'].apply(str_to_int_list)\n",
    "\n",
    "# Convert lists to a numpy array\n",
    "X = np.array(processed_data_df['PaddedLyrics'].tolist())\n",
    "\n",
    "# Continue with your previous code for splitting the data\n",
    "X_train, X_temp, y_train, y_temp = train_test_split(X, y, test_size=0.3, random_state=42)\n",
    "X_val, X_test, y_val, y_test = train_test_split(X_temp, y_temp, test_size=0.5, random_state=42)\n",
    "\n",
    "# Output the shapes of the splits to verify\n",
    "print(\"Shapes of splits:\")\n",
    "print(f\"X_train: {X_train.shape}, y_train: {y_train.shape}\")\n",
    "print(f\"X_val: {X_val.shape}, y_val: {y_val.shape}\")\n",
    "print(f\"X_test: {X_test.shape}, y_test: {y_test.shape}\")\n"
   ]
  },
  {
   "cell_type": "code",
   "execution_count": null,
   "metadata": {},
   "outputs": [
    {
     "name": "stdout",
     "output_type": "stream",
     "text": [
      "Defaulting to user installation because normal site-packages is not writeable\n",
      "Collecting transformers\n",
      "  Downloading transformers-4.38.2-py3-none-any.whl (8.5 MB)\n",
      "\u001b[2K     \u001b[90m━━━━━━━━━━━━━━━━━━━━━━━━━━━━━━━━━━━━━━━━\u001b[0m \u001b[32m8.5/8.5 MB\u001b[0m \u001b[31m16.7 MB/s\u001b[0m eta \u001b[36m0:00:00\u001b[0m00:01\u001b[0m00:01\u001b[0m\n",
      "\u001b[?25hRequirement already satisfied: filelock in /home/ramzidaher/.local/lib/python3.10/site-packages (from transformers) (3.13.1)\n",
      "Requirement already satisfied: numpy>=1.17 in /home/ramzidaher/.local/lib/python3.10/site-packages (from transformers) (1.26.4)\n",
      "Collecting safetensors>=0.4.1\n",
      "  Downloading safetensors-0.4.2-cp310-cp310-manylinux_2_17_x86_64.manylinux2014_x86_64.whl (1.3 MB)\n",
      "\u001b[2K     \u001b[90m━━━━━━━━━━━━━━━━━━━━━━━━━━━━━━━━━━━━━━━━\u001b[0m \u001b[32m1.3/1.3 MB\u001b[0m \u001b[31m15.9 MB/s\u001b[0m eta \u001b[36m0:00:00\u001b[0m00:01\u001b[0m00:01\u001b[0m\n",
      "\u001b[?25hCollecting tokenizers<0.19,>=0.14\n",
      "  Downloading tokenizers-0.15.2-cp310-cp310-manylinux_2_17_x86_64.manylinux2014_x86_64.whl (3.6 MB)\n",
      "\u001b[2K     \u001b[90m━━━━━━━━━━━━━━━━━━━━━━━━━━━━━━━━━━━━━━━━\u001b[0m \u001b[32m3.6/3.6 MB\u001b[0m \u001b[31m16.3 MB/s\u001b[0m eta \u001b[36m0:00:00\u001b[0m00:01\u001b[0m00:01\u001b[0m\n",
      "\u001b[?25hRequirement already satisfied: tqdm>=4.27 in /home/ramzidaher/.local/lib/python3.10/site-packages (from transformers) (4.64.0)\n",
      "Requirement already satisfied: pyyaml>=5.1 in /usr/lib/python3/dist-packages (from transformers) (5.4.1)\n",
      "Requirement already satisfied: packaging>=20.0 in /home/ramzidaher/.local/lib/python3.10/site-packages (from transformers) (23.2)\n",
      "Requirement already satisfied: regex!=2019.12.17 in /home/ramzidaher/.local/lib/python3.10/site-packages (from transformers) (2023.10.3)\n",
      "Requirement already satisfied: requests in /home/ramzidaher/.local/lib/python3.10/site-packages (from transformers) (2.31.0)\n",
      "Collecting huggingface-hub<1.0,>=0.19.3\n",
      "  Downloading huggingface_hub-0.21.4-py3-none-any.whl (346 kB)\n",
      "\u001b[2K     \u001b[90m━━━━━━━━━━━━━━━━━━━━━━━━━━━━━━━━━━━━━━\u001b[0m \u001b[32m346.4/346.4 KB\u001b[0m \u001b[31m15.2 MB/s\u001b[0m eta \u001b[36m0:00:00\u001b[0m\n",
      "\u001b[?25hRequirement already satisfied: typing-extensions>=3.7.4.3 in /home/ramzidaher/.local/lib/python3.10/site-packages (from huggingface-hub<1.0,>=0.19.3->transformers) (4.9.0)\n",
      "Collecting fsspec>=2023.5.0\n",
      "  Downloading fsspec-2024.2.0-py3-none-any.whl (170 kB)\n",
      "\u001b[2K     \u001b[90m━━━━━━━━━━━━━━━━━━━━━━━━━━━━━━━━━━━━━━\u001b[0m \u001b[32m170.9/170.9 KB\u001b[0m \u001b[31m10.7 MB/s\u001b[0m eta \u001b[36m0:00:00\u001b[0m\n",
      "\u001b[?25hRequirement already satisfied: charset-normalizer<4,>=2 in /home/ramzidaher/.local/lib/python3.10/site-packages (from requests->transformers) (3.3.2)\n",
      "Requirement already satisfied: idna<4,>=2.5 in /home/ramzidaher/.local/lib/python3.10/site-packages (from requests->transformers) (3.6)\n",
      "Requirement already satisfied: certifi>=2017.4.17 in /home/ramzidaher/.local/lib/python3.10/site-packages (from requests->transformers) (2024.2.2)\n",
      "Requirement already satisfied: urllib3<3,>=1.21.1 in /home/ramzidaher/.local/lib/python3.10/site-packages (from requests->transformers) (2.2.1)\n",
      "Installing collected packages: safetensors, fsspec, huggingface-hub, tokenizers, transformers\n",
      "Successfully installed fsspec-2024.2.0 huggingface-hub-0.21.4 safetensors-0.4.2 tokenizers-0.15.2 transformers-4.38.2\n",
      "Note: you may need to restart the kernel to use updated packages.\n"
     ]
    }
   ],
   "source": [
    "pip install transformers"
   ]
  },
  {
   "cell_type": "code",
   "execution_count": null,
   "metadata": {},
   "outputs": [
    {
     "name": "stderr",
     "output_type": "stream",
     "text": [
      "/home/ramzidaher/.local/lib/python3.10/site-packages/tqdm/auto.py:22: TqdmWarning: IProgress not found. Please update jupyter and ipywidgets. See https://ipywidgets.readthedocs.io/en/stable/user_install.html\n",
      "  from .autonotebook import tqdm as notebook_tqdm\n"
     ]
    },
    {
     "ename": "ModuleNotFoundError",
     "evalue": "No module named 'torch'",
     "output_type": "error",
     "traceback": [
      "\u001b[0;31m---------------------------------------------------------------------------\u001b[0m",
      "\u001b[0;31mModuleNotFoundError\u001b[0m                       Traceback (most recent call last)",
      "Cell \u001b[0;32mIn[2], line 2\u001b[0m\n\u001b[1;32m      1\u001b[0m \u001b[38;5;28;01mfrom\u001b[39;00m \u001b[38;5;21;01mtransformers\u001b[39;00m \u001b[38;5;28;01mimport\u001b[39;00m BertTokenizer, BertForSequenceClassification\n\u001b[0;32m----> 2\u001b[0m \u001b[38;5;28;01mfrom\u001b[39;00m \u001b[38;5;21;01mtorch\u001b[39;00m\u001b[38;5;21;01m.\u001b[39;00m\u001b[38;5;21;01mutils\u001b[39;00m\u001b[38;5;21;01m.\u001b[39;00m\u001b[38;5;21;01mdata\u001b[39;00m \u001b[38;5;28;01mimport\u001b[39;00m TensorDataset, DataLoader, RandomSampler, SequentialSampler\n\u001b[1;32m      3\u001b[0m \u001b[38;5;28;01mimport\u001b[39;00m \u001b[38;5;21;01mtorch\u001b[39;00m\n\u001b[1;32m      5\u001b[0m \u001b[38;5;66;03m# Load the mBERT tokenizer and model\u001b[39;00m\n",
      "\u001b[0;31mModuleNotFoundError\u001b[0m: No module named 'torch'"
     ]
    }
   ],
   "source": [
    "from transformers import BertTokenizer, BertForSequenceClassification\n",
    "from torch.utils.data import TensorDataset, DataLoader, RandomSampler, SequentialSampler\n",
    "import torch\n",
    "\n",
    "# Load the mBERT tokenizer and model\n",
    "tokenizer = BertTokenizer.from_pretrained('bert-base-multilingual-cased')\n",
    "model = BertForSequenceClassification.from_pretrained('bert-base-multilingual-cased', num_labels = number_of_labels)  # Update `number_of_labels` with the actual number of labels in your dataset\n",
    "\n",
    "# Specify the device\n",
    "device = torch.device(\"cuda\" if torch.cuda.is_available() else \"cpu\")\n",
    "model.to(device)\n"
   ]
  },
  {
   "cell_type": "code",
   "execution_count": null,
   "metadata": {},
   "outputs": [],
   "source": []
  }
 ],
 "metadata": {
  "kernelspec": {
   "display_name": "Python 3",
   "language": "python",
   "name": "python3"
  },
  "language_info": {
   "codemirror_mode": {
    "name": "ipython",
    "version": 3
   },
   "file_extension": ".py",
   "mimetype": "text/x-python",
   "name": "python",
   "nbconvert_exporter": "python",
   "pygments_lexer": "ipython3",
   "version": "3.10.12"
  }
 },
 "nbformat": 4,
 "nbformat_minor": 2
}
