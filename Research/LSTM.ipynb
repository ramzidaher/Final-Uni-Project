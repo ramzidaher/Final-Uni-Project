{
  "nbformat": 4,
  "nbformat_minor": 0,
  "metadata": {
    "colab": {
      "provenance": []
    },
    "kernelspec": {
      "name": "python3",
      "display_name": "Python 3"
    },
    "language_info": {
      "name": "python"
    }
  },
  "cells": [
    {
      "cell_type": "code",
      "execution_count": 30,
      "metadata": {
        "colab": {
          "base_uri": "https://localhost:8080/"
        },
        "id": "q2a6aCsv8N7K",
        "outputId": "d6c08a14-8a95-4831-a5f1-90eca6e94920"
      },
      "outputs": [
        {
          "output_type": "stream",
          "name": "stdout",
          "text": [
            "Drive already mounted at /content/drive; to attempt to forcibly remount, call drive.mount(\"/content/drive\", force_remount=True).\n"
          ]
        }
      ],
      "source": [
        "from google.colab import drive\n",
        "drive.mount('/content/drive')"
      ]
    },
    {
      "cell_type": "code",
      "source": [
        "pip install tensorflow"
      ],
      "metadata": {
        "colab": {
          "base_uri": "https://localhost:8080/"
        },
        "id": "hAGuVw-K8pjz",
        "outputId": "dd907d5a-8fa3-48be-8bd8-b191d648e996"
      },
      "execution_count": 31,
      "outputs": [
        {
          "output_type": "stream",
          "name": "stdout",
          "text": [
            "Requirement already satisfied: tensorflow in /usr/local/lib/python3.10/dist-packages (2.15.0)\n",
            "Requirement already satisfied: absl-py>=1.0.0 in /usr/local/lib/python3.10/dist-packages (from tensorflow) (1.4.0)\n",
            "Requirement already satisfied: astunparse>=1.6.0 in /usr/local/lib/python3.10/dist-packages (from tensorflow) (1.6.3)\n",
            "Requirement already satisfied: flatbuffers>=23.5.26 in /usr/local/lib/python3.10/dist-packages (from tensorflow) (24.3.25)\n",
            "Requirement already satisfied: gast!=0.5.0,!=0.5.1,!=0.5.2,>=0.2.1 in /usr/local/lib/python3.10/dist-packages (from tensorflow) (0.5.4)\n",
            "Requirement already satisfied: google-pasta>=0.1.1 in /usr/local/lib/python3.10/dist-packages (from tensorflow) (0.2.0)\n",
            "Requirement already satisfied: h5py>=2.9.0 in /usr/local/lib/python3.10/dist-packages (from tensorflow) (3.9.0)\n",
            "Requirement already satisfied: libclang>=13.0.0 in /usr/local/lib/python3.10/dist-packages (from tensorflow) (18.1.1)\n",
            "Requirement already satisfied: ml-dtypes~=0.2.0 in /usr/local/lib/python3.10/dist-packages (from tensorflow) (0.2.0)\n",
            "Requirement already satisfied: numpy<2.0.0,>=1.23.5 in /usr/local/lib/python3.10/dist-packages (from tensorflow) (1.25.2)\n",
            "Requirement already satisfied: opt-einsum>=2.3.2 in /usr/local/lib/python3.10/dist-packages (from tensorflow) (3.3.0)\n",
            "Requirement already satisfied: packaging in /usr/local/lib/python3.10/dist-packages (from tensorflow) (24.0)\n",
            "Requirement already satisfied: protobuf!=4.21.0,!=4.21.1,!=4.21.2,!=4.21.3,!=4.21.4,!=4.21.5,<5.0.0dev,>=3.20.3 in /usr/local/lib/python3.10/dist-packages (from tensorflow) (3.20.3)\n",
            "Requirement already satisfied: setuptools in /usr/local/lib/python3.10/dist-packages (from tensorflow) (67.7.2)\n",
            "Requirement already satisfied: six>=1.12.0 in /usr/local/lib/python3.10/dist-packages (from tensorflow) (1.16.0)\n",
            "Requirement already satisfied: termcolor>=1.1.0 in /usr/local/lib/python3.10/dist-packages (from tensorflow) (2.4.0)\n",
            "Requirement already satisfied: typing-extensions>=3.6.6 in /usr/local/lib/python3.10/dist-packages (from tensorflow) (4.11.0)\n",
            "Requirement already satisfied: wrapt<1.15,>=1.11.0 in /usr/local/lib/python3.10/dist-packages (from tensorflow) (1.14.1)\n",
            "Requirement already satisfied: tensorflow-io-gcs-filesystem>=0.23.1 in /usr/local/lib/python3.10/dist-packages (from tensorflow) (0.36.0)\n",
            "Requirement already satisfied: grpcio<2.0,>=1.24.3 in /usr/local/lib/python3.10/dist-packages (from tensorflow) (1.62.2)\n",
            "Requirement already satisfied: tensorboard<2.16,>=2.15 in /usr/local/lib/python3.10/dist-packages (from tensorflow) (2.15.2)\n",
            "Requirement already satisfied: tensorflow-estimator<2.16,>=2.15.0 in /usr/local/lib/python3.10/dist-packages (from tensorflow) (2.15.0)\n",
            "Requirement already satisfied: keras<2.16,>=2.15.0 in /usr/local/lib/python3.10/dist-packages (from tensorflow) (2.15.0)\n",
            "Requirement already satisfied: wheel<1.0,>=0.23.0 in /usr/local/lib/python3.10/dist-packages (from astunparse>=1.6.0->tensorflow) (0.43.0)\n",
            "Requirement already satisfied: google-auth<3,>=1.6.3 in /usr/local/lib/python3.10/dist-packages (from tensorboard<2.16,>=2.15->tensorflow) (2.27.0)\n",
            "Requirement already satisfied: google-auth-oauthlib<2,>=0.5 in /usr/local/lib/python3.10/dist-packages (from tensorboard<2.16,>=2.15->tensorflow) (1.2.0)\n",
            "Requirement already satisfied: markdown>=2.6.8 in /usr/local/lib/python3.10/dist-packages (from tensorboard<2.16,>=2.15->tensorflow) (3.6)\n",
            "Requirement already satisfied: requests<3,>=2.21.0 in /usr/local/lib/python3.10/dist-packages (from tensorboard<2.16,>=2.15->tensorflow) (2.31.0)\n",
            "Requirement already satisfied: tensorboard-data-server<0.8.0,>=0.7.0 in /usr/local/lib/python3.10/dist-packages (from tensorboard<2.16,>=2.15->tensorflow) (0.7.2)\n",
            "Requirement already satisfied: werkzeug>=1.0.1 in /usr/local/lib/python3.10/dist-packages (from tensorboard<2.16,>=2.15->tensorflow) (3.0.2)\n",
            "Requirement already satisfied: cachetools<6.0,>=2.0.0 in /usr/local/lib/python3.10/dist-packages (from google-auth<3,>=1.6.3->tensorboard<2.16,>=2.15->tensorflow) (5.3.3)\n",
            "Requirement already satisfied: pyasn1-modules>=0.2.1 in /usr/local/lib/python3.10/dist-packages (from google-auth<3,>=1.6.3->tensorboard<2.16,>=2.15->tensorflow) (0.4.0)\n",
            "Requirement already satisfied: rsa<5,>=3.1.4 in /usr/local/lib/python3.10/dist-packages (from google-auth<3,>=1.6.3->tensorboard<2.16,>=2.15->tensorflow) (4.9)\n",
            "Requirement already satisfied: requests-oauthlib>=0.7.0 in /usr/local/lib/python3.10/dist-packages (from google-auth-oauthlib<2,>=0.5->tensorboard<2.16,>=2.15->tensorflow) (1.3.1)\n",
            "Requirement already satisfied: charset-normalizer<4,>=2 in /usr/local/lib/python3.10/dist-packages (from requests<3,>=2.21.0->tensorboard<2.16,>=2.15->tensorflow) (3.3.2)\n",
            "Requirement already satisfied: idna<4,>=2.5 in /usr/local/lib/python3.10/dist-packages (from requests<3,>=2.21.0->tensorboard<2.16,>=2.15->tensorflow) (3.7)\n",
            "Requirement already satisfied: urllib3<3,>=1.21.1 in /usr/local/lib/python3.10/dist-packages (from requests<3,>=2.21.0->tensorboard<2.16,>=2.15->tensorflow) (2.0.7)\n",
            "Requirement already satisfied: certifi>=2017.4.17 in /usr/local/lib/python3.10/dist-packages (from requests<3,>=2.21.0->tensorboard<2.16,>=2.15->tensorflow) (2024.2.2)\n",
            "Requirement already satisfied: MarkupSafe>=2.1.1 in /usr/local/lib/python3.10/dist-packages (from werkzeug>=1.0.1->tensorboard<2.16,>=2.15->tensorflow) (2.1.5)\n",
            "Requirement already satisfied: pyasn1<0.7.0,>=0.4.6 in /usr/local/lib/python3.10/dist-packages (from pyasn1-modules>=0.2.1->google-auth<3,>=1.6.3->tensorboard<2.16,>=2.15->tensorflow) (0.6.0)\n",
            "Requirement already satisfied: oauthlib>=3.0.0 in /usr/local/lib/python3.10/dist-packages (from requests-oauthlib>=0.7.0->google-auth-oauthlib<2,>=0.5->tensorboard<2.16,>=2.15->tensorflow) (3.2.2)\n"
          ]
        }
      ]
    },
    {
      "cell_type": "code",
      "source": [
        "# Import the necessary library\n",
        "import pandas as pd\n",
        "\n",
        "# Define the data path\n",
        "data_path = '/content/drive/My Drive/Final-Uni-Project/Language-Identification-in-songs/Chara-Based-Model/Jupyter-Scripts/DataSets/Main_Full_Corrected_Updated_Lyrics_Training_Data (1).xlsx'\n",
        "\n",
        "# Load the dataset\n",
        "data = pd.read_excel(data_path)\n",
        "\n",
        "# Display the first few rows to understand its structure\n",
        "print(data.head())\n"
      ],
      "metadata": {
        "colab": {
          "base_uri": "https://localhost:8080/"
        },
        "id": "SNKvbwCi8aUg",
        "outputId": "c7edf6ad-fdca-4b11-f08e-a11a2fb7f40d"
      },
      "execution_count": 32,
      "outputs": [
        {
          "output_type": "stream",
          "name": "stdout",
          "text": [
            "                                              lyrics language_label Artist\n",
            "0  I morgonens första ljus,\\ndär tystnaden bryts ...             SW    GPT\n",
            "1  В лучах заката мы встретились, не случайно,\\nН...             RU    GPT\n",
            "2  꿈속의 세계는 눈부시게 아름다워,\\n현실의 벽 너머로 손을 뻗어.\\n별빛 아래 속삭...             KO    GPT\n",
            "3  En el pueblo donde nací, las calles cuentan hi...             ES    GPT\n",
            "4  Под широким небом земли разных,\\nМы встречаемс...             RU    GPT\n"
          ]
        }
      ]
    },
    {
      "cell_type": "code",
      "source": [
        "# Import the necessary library\n",
        "import pandas as pd\n",
        "\n",
        "\n",
        "\n",
        "# Load the dataset from the Excel file\n",
        "data = pd.read_excel(data_path)\n",
        "\n",
        "# Display the first few rows to understand its structure\n",
        "print(data.head())\n",
        "\n",
        "# Split the 'language_label' by commas, strip spaces, explode the resulting lists into separate rows, and then get the counts of each language\n",
        "language_counts = data['language_label'].str.split(',').explode().str.strip().value_counts()\n",
        "\n",
        "# Print the counts of each language\n",
        "print(language_counts)\n"
      ],
      "metadata": {
        "colab": {
          "base_uri": "https://localhost:8080/"
        },
        "id": "CaRDoO_E8e9W",
        "outputId": "a556963e-855a-4780-ae0d-b8323d99f630"
      },
      "execution_count": 33,
      "outputs": [
        {
          "output_type": "stream",
          "name": "stdout",
          "text": [
            "                                              lyrics language_label Artist\n",
            "0  I morgonens första ljus,\\ndär tystnaden bryts ...             SW    GPT\n",
            "1  В лучах заката мы встретились, не случайно,\\nН...             RU    GPT\n",
            "2  꿈속의 세계는 눈부시게 아름다워,\\n현실의 벽 너머로 손을 뻗어.\\n별빛 아래 속삭...             KO    GPT\n",
            "3  En el pueblo donde nací, las calles cuentan hi...             ES    GPT\n",
            "4  Под широким небом земли разных,\\nМы встречаемс...             RU    GPT\n",
            "language_label\n",
            "AR    9\n",
            "KO    8\n",
            "RU    7\n",
            "SW    6\n",
            "PT    6\n",
            "DE    5\n",
            "HI    4\n",
            "ES    3\n",
            "IT    3\n",
            "FR    3\n",
            "Name: count, dtype: int64\n"
          ]
        }
      ]
    },
    {
      "cell_type": "code",
      "source": [
        "import unicodedata\n",
        "import re\n",
        "\n",
        "def normalize_text(texts):\n",
        "    normalized_texts = []\n",
        "    # Expanded set of punctuation to keep based on linguistic relevance\n",
        "    keep_punctuation = {\"'\", \"-\", \"’\", \":\", \",\", \".\", \"!\", \"?\", \";\"}\n",
        "\n",
        "    for text in texts:\n",
        "        try:\n",
        "            text = str(text).lower()\n",
        "            text = ' '.join(text.split())\n",
        "\n",
        "            # Retain letters, numbers, spaces, and specified punctuation, considering multilingual characters\n",
        "            text = ''.join(\n",
        "                char for char in text\n",
        "                if unicodedata.category(char)[0] in ('L', 'N', 'Z')  # Letter, number, or space\n",
        "                or char in keep_punctuation\n",
        "            )\n",
        "\n",
        "            # Remove standalone numbers that may not contribute significantly to language identification\n",
        "            text = re.sub(r'\\b\\d+\\b', ' ', text)\n",
        "\n",
        "            text = re.sub(r'[\\.\\,\\!\\?\\;\\:]+(?=[\\.\\,\\!\\?\\;\\:])', '', text)\n",
        "\n",
        "            # Ensure there are no extra spaces created by the replacements above\n",
        "            text = ' '.join(text.split())\n",
        "\n",
        "            normalized_texts.append(text)\n",
        "        except Exception as e:\n",
        "            print(f\"Error processing text: {text} with error {e}\")\n",
        "            normalized_texts.append(\"\")  # Append an empty string to indicate an issue\n",
        "\n",
        "    return normalized_texts\n",
        "\n",
        "\n",
        "data['lyrics_normalized'] = normalize_text(data['lyrics'].tolist())\n",
        "\n",
        "print(data[['lyrics', 'lyrics_normalized']].head())\n"
      ],
      "metadata": {
        "colab": {
          "base_uri": "https://localhost:8080/"
        },
        "id": "SMxHCg5T8iEp",
        "outputId": "5a62509c-4f93-483f-8d28-99b02c8bc86a"
      },
      "execution_count": 34,
      "outputs": [
        {
          "output_type": "stream",
          "name": "stdout",
          "text": [
            "                                              lyrics  \\\n",
            "0  I morgonens första ljus,\\ndär tystnaden bryts ...   \n",
            "1  В лучах заката мы встретились, не случайно,\\nН...   \n",
            "2  꿈속의 세계는 눈부시게 아름다워,\\n현실의 벽 너머로 손을 뻗어.\\n별빛 아래 속삭...   \n",
            "3  En el pueblo donde nací, las calles cuentan hi...   \n",
            "4  Под широким небом земли разных,\\nМы встречаемс...   \n",
            "\n",
            "                                   lyrics_normalized  \n",
            "0  i morgonens första ljus, där tystnaden bryts a...  \n",
            "1  в лучах заката мы встретились, не случайно, на...  \n",
            "2  꿈속의 세계는 눈부시게 아름다워, 현실의 벽 너머로 손을 뻗어. 별빛 아래 속삭임,...  \n",
            "3  en el pueblo donde nací, las calles cuentan hi...  \n",
            "4  под широким небом земли разных, мы встречаемся...  \n"
          ]
        }
      ]
    },
    {
      "cell_type": "code",
      "source": [
        "# Extract all unique language codes from the 'language_label' column\n",
        "unique_languages = set()\n",
        "data['language_label'].apply(lambda labels: unique_languages.update(labels))\n",
        "\n",
        "# Sort and list the languages to have a consistent order\n",
        "unique_languages = sorted(list(unique_languages))\n",
        "\n",
        "# Create a mapping of languages to indices\n",
        "language_to_index = {lang: idx for idx, lang in enumerate(unique_languages)}\n",
        "\n",
        "print(f\"Unique languages in dataset: {unique_languages}\")\n",
        "print(f\"Language to index mapping: {language_to_index}\")\n"
      ],
      "metadata": {
        "colab": {
          "base_uri": "https://localhost:8080/"
        },
        "id": "2C2Tez9J8jyL",
        "outputId": "d271ae7d-7ebf-405c-f252-a35f98da637b"
      },
      "execution_count": 35,
      "outputs": [
        {
          "output_type": "stream",
          "name": "stdout",
          "text": [
            "Unique languages in dataset: ['A', 'D', 'E', 'F', 'H', 'I', 'K', 'O', 'P', 'R', 'S', 'T', 'U', 'W']\n",
            "Language to index mapping: {'A': 0, 'D': 1, 'E': 2, 'F': 3, 'H': 4, 'I': 5, 'K': 6, 'O': 7, 'P': 8, 'R': 9, 'S': 10, 'T': 11, 'U': 12, 'W': 13}\n"
          ]
        }
      ]
    },
    {
      "cell_type": "code",
      "source": [
        "import numpy as np\n",
        "\n",
        "def labels_to_array(labels, language_to_index):\n",
        "    # Initialize an array of zeros\n",
        "    label_array = np.zeros(len(language_to_index), dtype=int)\n",
        "    # Set positions corresponding to the label to 1\n",
        "    for label in labels:\n",
        "        if label in language_to_index:  # Safety check\n",
        "            label_array[language_to_index[label]] = 1\n",
        "    return label_array\n",
        "\n",
        "# Apply the conversion to the entire dataset\n",
        "data['labels_array'] = data['language_label'].apply(lambda labels: labels_to_array(labels, language_to_index))\n",
        "\n",
        "# Check the first few entries to ensure correctness\n",
        "print(data[['language_label', 'labels_array']].head())\n"
      ],
      "metadata": {
        "colab": {
          "base_uri": "https://localhost:8080/"
        },
        "id": "MjgQ2YvG8mHQ",
        "outputId": "979e161e-c6dd-4501-f05c-50e1e584729f"
      },
      "execution_count": 36,
      "outputs": [
        {
          "output_type": "stream",
          "name": "stdout",
          "text": [
            "  language_label                                labels_array\n",
            "0             SW  [0, 0, 0, 0, 0, 0, 0, 0, 0, 0, 1, 0, 0, 1]\n",
            "1             RU  [0, 0, 0, 0, 0, 0, 0, 0, 0, 1, 0, 0, 1, 0]\n",
            "2             KO  [0, 0, 0, 0, 0, 0, 1, 1, 0, 0, 0, 0, 0, 0]\n",
            "3             ES  [0, 0, 1, 0, 0, 0, 0, 0, 0, 0, 1, 0, 0, 0]\n",
            "4             RU  [0, 0, 0, 0, 0, 0, 0, 0, 0, 1, 0, 0, 1, 0]\n"
          ]
        }
      ]
    },
    {
      "cell_type": "code",
      "source": [
        "from sklearn.model_selection import train_test_split\n",
        "\n",
        "# Prepare the features and labels for splitting\n",
        "X = data['lyrics_normalized'].values\n",
        "y = np.stack(data['labels_array'].values)\n",
        "\n",
        "# Split the data into training and testing sets, then split the training set further into training and validation sets\n",
        "X_train, X_test, y_train, y_test = train_test_split(X, y, test_size=0.2, random_state=42)\n",
        "X_train, X_val, y_train, y_val = train_test_split(X_train, y_train, test_size=0.25, random_state=42)\n",
        "\n",
        "print(f\"Training set size: {X_train.shape[0]}\")\n",
        "print(f\"Validation set size: {X_val.shape[0]}\")\n",
        "print(f\"Testing set size: {X_test.shape[0]}\")\n"
      ],
      "metadata": {
        "colab": {
          "base_uri": "https://localhost:8080/"
        },
        "id": "4c-DfCCc8nYG",
        "outputId": "a1ffd760-fd03-4fe3-f3cd-38dfde221e91"
      },
      "execution_count": 37,
      "outputs": [
        {
          "output_type": "stream",
          "name": "stdout",
          "text": [
            "Training set size: 32\n",
            "Validation set size: 11\n",
            "Testing set size: 11\n"
          ]
        }
      ]
    },
    {
      "cell_type": "code",
      "source": [
        "import tensorflow as tf\n",
        "from tensorflow.keras.models import Sequential\n",
        "from tensorflow.keras.layers import Embedding, LSTM, Dense\n",
        "from tensorflow.keras.preprocessing.text import Tokenizer\n",
        "from tensorflow.keras.preprocessing.sequence import pad_sequences\n",
        "from tensorflow.keras.metrics import Precision, Recall\n",
        "\n",
        "# Parameters\n",
        "vocab_size = 10000\n",
        "max_length = 100\n",
        "embedding_dim = 128\n",
        "output_dim = len(unique_languages)\n",
        "\n",
        "# Tokenization and Padding\n",
        "tokenizer = Tokenizer(num_words=vocab_size, oov_token=\"<OOV>\")\n",
        "tokenizer.fit_on_texts(X_train)\n",
        "X_train_sequences = tokenizer.texts_to_sequences(X_train)\n",
        "X_train_padded = pad_sequences(X_train_sequences, maxlen=max_length, padding='post', truncating='post')\n",
        "\n",
        "X_val_sequences = tokenizer.texts_to_sequences(X_val)\n",
        "X_val_padded = pad_sequences(X_val_sequences, maxlen=max_length, padding='post', truncating='post')\n",
        "\n",
        "# Define a custom F1 Score metric\n",
        "class F1Score(tf.keras.metrics.Metric):\n",
        "    def __init__(self, name='f1_score', **kwargs):\n",
        "        super(F1Score, self).__init__(name=name, **kwargs)\n",
        "        self.precision = Precision()\n",
        "        self.recall = Recall()\n",
        "\n",
        "    def update_state(self, y_true, y_pred, sample_weight=None):\n",
        "        self.precision.update_state(y_true, y_pred, sample_weight)\n",
        "        self.recall.update_state(y_true, y_pred, sample_weight)\n",
        "\n",
        "    def result(self):\n",
        "        p = self.precision.result()\n",
        "        r = self.recall.result()\n",
        "        return 2 * ((p * r) / (p + r + tf.keras.backend.epsilon()))\n",
        "\n",
        "    def reset_states(self):\n",
        "        self.precision.reset_states()\n",
        "        self.recall.reset_states()\n",
        "\n",
        "# Model Definition\n",
        "model = Sequential([\n",
        "    Embedding(vocab_size, embedding_dim, input_length=max_length),\n",
        "    LSTM(64, return_sequences=False),\n",
        "    Dense(output_dim, activation='sigmoid')  # Use 'sigmoid' for multi-label classification\n",
        "])\n",
        "\n",
        "model.compile(loss='binary_crossentropy', optimizer='adam',\n",
        "              metrics=['accuracy', Precision(), Recall(), F1Score()])\n",
        "\n",
        "model.summary()\n",
        "\n",
        "# Model Training\n",
        "history = model.fit(X_train_padded, y_train,\n",
        "                    epochs=100,\n",
        "                    validation_data=(X_val_padded, y_val))\n"
      ],
      "metadata": {
        "id": "eGvSMHgG8sJS",
        "colab": {
          "base_uri": "https://localhost:8080/"
        },
        "outputId": "a7cb03e6-a70f-4b2d-cc00-d4414c852384"
      },
      "execution_count": 38,
      "outputs": [
        {
          "output_type": "stream",
          "name": "stdout",
          "text": [
            "Model: \"sequential_8\"\n",
            "_________________________________________________________________\n",
            " Layer (type)                Output Shape              Param #   \n",
            "=================================================================\n",
            " embedding_8 (Embedding)     (None, 100, 128)          1280000   \n",
            "                                                                 \n",
            " lstm_8 (LSTM)               (None, 64)                49408     \n",
            "                                                                 \n",
            " dense_8 (Dense)             (None, 14)                910       \n",
            "                                                                 \n",
            "=================================================================\n",
            "Total params: 1330318 (5.07 MB)\n",
            "Trainable params: 1330318 (5.07 MB)\n",
            "Non-trainable params: 0 (0.00 Byte)\n",
            "_________________________________________________________________\n",
            "Epoch 1/100\n",
            "1/1 [==============================] - ETA: 0s - loss: 0.6937 - accuracy: 0.0938 - precision_8: 0.1057 - recall_8: 0.3750 - f1_score: 0.1649"
          ]
        },
        {
          "output_type": "stream",
          "name": "stderr",
          "text": [
            "/usr/local/lib/python3.10/dist-packages/keras/src/engine/training.py:2723: UserWarning: Metric F1Score implements a `reset_states()` method; rename it to `reset_state()` (without the final \"s\"). The name `reset_states()` has been deprecated to improve API consistency.\n",
            "  m.reset_state()\n"
          ]
        },
        {
          "output_type": "stream",
          "name": "stdout",
          "text": [
            "\b\b\b\b\b\b\b\b\b\b\b\b\b\b\b\b\b\b\b\b\b\b\b\b\b\b\b\b\b\b\b\b\b\b\b\b\b\b\b\b\b\b\b\b\b\b\b\b\b\b\b\b\b\b\b\b\b\b\b\b\b\b\b\b\b\b\b\b\b\b\b\b\b\b\b\b\b\b\b\b\b\b\b\b\b\b\b\b\b\b\b\b\b\b\b\b\b\b\b\b\b\b\b\b\b\b\b\b\b\b\b\b\b\b\b\b\b\b\b\b\b\b\b\b\b\b\b\b\b\b\b\b\b\b\b\b\b\b\b\b\r1/1 [==============================] - 8s 8s/step - loss: 0.6937 - accuracy: 0.0938 - precision_8: 0.1057 - recall_8: 0.3750 - f1_score: 0.1649 - val_loss: 0.6912 - val_accuracy: 0.0909 - val_precision_8: 0.1311 - val_recall_8: 0.3636 - val_f1_score: 0.1928\n",
            "Epoch 2/100\n",
            "1/1 [==============================] - 0s 294ms/step - loss: 0.6912 - accuracy: 0.1562 - precision_8: 0.1818 - recall_8: 0.4688 - f1_score: 0.2620 - val_loss: 0.6898 - val_accuracy: 0.0909 - val_precision_8: 0.1277 - val_recall_8: 0.2727 - val_f1_score: 0.1739\n",
            "Epoch 3/100\n",
            "1/1 [==============================] - 0s 246ms/step - loss: 0.6886 - accuracy: 0.2812 - precision_8: 0.3103 - recall_8: 0.5625 - f1_score: 0.4000 - val_loss: 0.6883 - val_accuracy: 0.0909 - val_precision_8: 0.1429 - val_recall_8: 0.2273 - val_f1_score: 0.1754\n",
            "Epoch 4/100\n",
            "1/1 [==============================] - 0s 325ms/step - loss: 0.6858 - accuracy: 0.3438 - precision_8: 0.4699 - recall_8: 0.6094 - f1_score: 0.5306 - val_loss: 0.6866 - val_accuracy: 0.1818 - val_precision_8: 0.1786 - val_recall_8: 0.2273 - val_f1_score: 0.2000\n",
            "Epoch 5/100\n",
            "1/1 [==============================] - 0s 465ms/step - loss: 0.6828 - accuracy: 0.4062 - precision_8: 0.6190 - recall_8: 0.6094 - f1_score: 0.6142 - val_loss: 0.6848 - val_accuracy: 0.0909 - val_precision_8: 0.2273 - val_recall_8: 0.2273 - val_f1_score: 0.2273\n",
            "Epoch 6/100\n",
            "1/1 [==============================] - 0s 297ms/step - loss: 0.6795 - accuracy: 0.4688 - precision_8: 0.7451 - recall_8: 0.5938 - f1_score: 0.6609 - val_loss: 0.6826 - val_accuracy: 0.2727 - val_precision_8: 0.2941 - val_recall_8: 0.2273 - val_f1_score: 0.2564\n",
            "Epoch 7/100\n",
            "1/1 [==============================] - 0s 246ms/step - loss: 0.6758 - accuracy: 0.5000 - precision_8: 0.7872 - recall_8: 0.5781 - f1_score: 0.6667 - val_loss: 0.6801 - val_accuracy: 0.2727 - val_precision_8: 0.2667 - val_recall_8: 0.1818 - val_f1_score: 0.2162\n",
            "Epoch 8/100\n",
            "1/1 [==============================] - 0s 388ms/step - loss: 0.6716 - accuracy: 0.4688 - precision_8: 0.7907 - recall_8: 0.5312 - f1_score: 0.6355 - val_loss: 0.6772 - val_accuracy: 0.2727 - val_precision_8: 0.2857 - val_recall_8: 0.1818 - val_f1_score: 0.2222\n",
            "Epoch 9/100\n",
            "1/1 [==============================] - 0s 421ms/step - loss: 0.6667 - accuracy: 0.4688 - precision_8: 0.8250 - recall_8: 0.5156 - f1_score: 0.6346 - val_loss: 0.6738 - val_accuracy: 0.2727 - val_precision_8: 0.3333 - val_recall_8: 0.1818 - val_f1_score: 0.2353\n",
            "Epoch 10/100\n",
            "1/1 [==============================] - 0s 457ms/step - loss: 0.6610 - accuracy: 0.4062 - precision_8: 0.8250 - recall_8: 0.5156 - f1_score: 0.6346 - val_loss: 0.6695 - val_accuracy: 0.2727 - val_precision_8: 0.3636 - val_recall_8: 0.1818 - val_f1_score: 0.2424\n",
            "Epoch 11/100\n",
            "1/1 [==============================] - 0s 351ms/step - loss: 0.6541 - accuracy: 0.3438 - precision_8: 0.7941 - recall_8: 0.4219 - f1_score: 0.5510 - val_loss: 0.6642 - val_accuracy: 0.2727 - val_precision_8: 0.3636 - val_recall_8: 0.1818 - val_f1_score: 0.2424\n",
            "Epoch 12/100\n",
            "1/1 [==============================] - 0s 340ms/step - loss: 0.6457 - accuracy: 0.3438 - precision_8: 0.7500 - recall_8: 0.3281 - f1_score: 0.4565 - val_loss: 0.6574 - val_accuracy: 0.2727 - val_precision_8: 0.3636 - val_recall_8: 0.1818 - val_f1_score: 0.2424\n",
            "Epoch 13/100\n",
            "1/1 [==============================] - 0s 331ms/step - loss: 0.6352 - accuracy: 0.2188 - precision_8: 0.6154 - recall_8: 0.2500 - f1_score: 0.3556 - val_loss: 0.6484 - val_accuracy: 0.2727 - val_precision_8: 0.3636 - val_recall_8: 0.1818 - val_f1_score: 0.2424\n",
            "Epoch 14/100\n",
            "1/1 [==============================] - 0s 449ms/step - loss: 0.6217 - accuracy: 0.0938 - precision_8: 0.5926 - recall_8: 0.2500 - f1_score: 0.3516 - val_loss: 0.6356 - val_accuracy: 0.2727 - val_precision_8: 0.3636 - val_recall_8: 0.1818 - val_f1_score: 0.2424\n",
            "Epoch 15/100\n",
            "1/1 [==============================] - 1s 574ms/step - loss: 0.6035 - accuracy: 0.0938 - precision_8: 0.5714 - recall_8: 0.2500 - f1_score: 0.3478 - val_loss: 0.6162 - val_accuracy: 0.2727 - val_precision_8: 0.3636 - val_recall_8: 0.1818 - val_f1_score: 0.2424\n",
            "Epoch 16/100\n",
            "1/1 [==============================] - 0s 392ms/step - loss: 0.5780 - accuracy: 0.0938 - precision_8: 0.4643 - recall_8: 0.2031 - f1_score: 0.2826 - val_loss: 0.5834 - val_accuracy: 0.2727 - val_precision_8: 0.3636 - val_recall_8: 0.1818 - val_f1_score: 0.2424\n",
            "Epoch 17/100\n",
            "1/1 [==============================] - 0s 491ms/step - loss: 0.5408 - accuracy: 0.0938 - precision_8: 0.3750 - recall_8: 0.1875 - f1_score: 0.2500 - val_loss: 0.5298 - val_accuracy: 0.2727 - val_precision_8: 0.3636 - val_recall_8: 0.1818 - val_f1_score: 0.2424\n",
            "Epoch 18/100\n",
            "1/1 [==============================] - 0s 308ms/step - loss: 0.4924 - accuracy: 0.0938 - precision_8: 0.3750 - recall_8: 0.1875 - f1_score: 0.2500 - val_loss: 0.4849 - val_accuracy: 0.2727 - val_precision_8: 0.3636 - val_recall_8: 0.1818 - val_f1_score: 0.2424\n",
            "Epoch 19/100\n",
            "1/1 [==============================] - 1s 526ms/step - loss: 0.4577 - accuracy: 0.0938 - precision_8: 0.3750 - recall_8: 0.1875 - f1_score: 0.2500 - val_loss: 0.4665 - val_accuracy: 0.2727 - val_precision_8: 0.3636 - val_recall_8: 0.1818 - val_f1_score: 0.2424\n",
            "Epoch 20/100\n",
            "1/1 [==============================] - 0s 292ms/step - loss: 0.4427 - accuracy: 0.0938 - precision_8: 0.3750 - recall_8: 0.1875 - f1_score: 0.2500 - val_loss: 0.4579 - val_accuracy: 0.2727 - val_precision_8: 0.3636 - val_recall_8: 0.1818 - val_f1_score: 0.2424\n",
            "Epoch 21/100\n",
            "1/1 [==============================] - 0s 276ms/step - loss: 0.4348 - accuracy: 0.0938 - precision_8: 0.3750 - recall_8: 0.1875 - f1_score: 0.2500 - val_loss: 0.4523 - val_accuracy: 0.2727 - val_precision_8: 0.3636 - val_recall_8: 0.1818 - val_f1_score: 0.2424\n",
            "Epoch 22/100\n",
            "1/1 [==============================] - 0s 249ms/step - loss: 0.4288 - accuracy: 0.0938 - precision_8: 0.3750 - recall_8: 0.1875 - f1_score: 0.2500 - val_loss: 0.4473 - val_accuracy: 0.2727 - val_precision_8: 0.3636 - val_recall_8: 0.1818 - val_f1_score: 0.2424\n",
            "Epoch 23/100\n",
            "1/1 [==============================] - 0s 218ms/step - loss: 0.4232 - accuracy: 0.0938 - precision_8: 0.3750 - recall_8: 0.1875 - f1_score: 0.2500 - val_loss: 0.4422 - val_accuracy: 0.2727 - val_precision_8: 0.3636 - val_recall_8: 0.1818 - val_f1_score: 0.2424\n",
            "Epoch 24/100\n",
            "1/1 [==============================] - 0s 224ms/step - loss: 0.4174 - accuracy: 0.0938 - precision_8: 0.3750 - recall_8: 0.1875 - f1_score: 0.2500 - val_loss: 0.4368 - val_accuracy: 0.2727 - val_precision_8: 0.3636 - val_recall_8: 0.1818 - val_f1_score: 0.2424\n",
            "Epoch 25/100\n",
            "1/1 [==============================] - 0s 247ms/step - loss: 0.4113 - accuracy: 0.0938 - precision_8: 0.3750 - recall_8: 0.1875 - f1_score: 0.2500 - val_loss: 0.4312 - val_accuracy: 0.2727 - val_precision_8: 0.3636 - val_recall_8: 0.1818 - val_f1_score: 0.2424\n",
            "Epoch 26/100\n",
            "1/1 [==============================] - 0s 223ms/step - loss: 0.4051 - accuracy: 0.0938 - precision_8: 0.3750 - recall_8: 0.1875 - f1_score: 0.2500 - val_loss: 0.4256 - val_accuracy: 0.2727 - val_precision_8: 0.3636 - val_recall_8: 0.1818 - val_f1_score: 0.2424\n",
            "Epoch 27/100\n",
            "1/1 [==============================] - 0s 323ms/step - loss: 0.3989 - accuracy: 0.0938 - precision_8: 0.3750 - recall_8: 0.1875 - f1_score: 0.2500 - val_loss: 0.4201 - val_accuracy: 0.2727 - val_precision_8: 0.3636 - val_recall_8: 0.1818 - val_f1_score: 0.2424\n",
            "Epoch 28/100\n",
            "1/1 [==============================] - 0s 267ms/step - loss: 0.3930 - accuracy: 0.0938 - precision_8: 0.3750 - recall_8: 0.1875 - f1_score: 0.2500 - val_loss: 0.4151 - val_accuracy: 0.2727 - val_precision_8: 0.3636 - val_recall_8: 0.1818 - val_f1_score: 0.2424\n",
            "Epoch 29/100\n",
            "1/1 [==============================] - 0s 285ms/step - loss: 0.3876 - accuracy: 0.0938 - precision_8: 0.3750 - recall_8: 0.1875 - f1_score: 0.2500 - val_loss: 0.4107 - val_accuracy: 0.2727 - val_precision_8: 0.4444 - val_recall_8: 0.1818 - val_f1_score: 0.2581\n",
            "Epoch 30/100\n",
            "1/1 [==============================] - 0s 304ms/step - loss: 0.3828 - accuracy: 0.0938 - precision_8: 0.4800 - recall_8: 0.1875 - f1_score: 0.2697 - val_loss: 0.4072 - val_accuracy: 0.2727 - val_precision_8: 0.0000e+00 - val_recall_8: 0.0000e+00 - val_f1_score: 0.0000e+00\n",
            "Epoch 31/100\n",
            "1/1 [==============================] - 0s 304ms/step - loss: 0.3789 - accuracy: 0.0938 - precision_8: 1.0000 - recall_8: 0.1875 - f1_score: 0.3158 - val_loss: 0.4045 - val_accuracy: 0.2727 - val_precision_8: 0.0000e+00 - val_recall_8: 0.0000e+00 - val_f1_score: 0.0000e+00\n",
            "Epoch 32/100\n",
            "1/1 [==============================] - 0s 374ms/step - loss: 0.3757 - accuracy: 0.0938 - precision_8: 0.0000e+00 - recall_8: 0.0000e+00 - f1_score: 0.0000e+00 - val_loss: 0.4026 - val_accuracy: 0.2727 - val_precision_8: 0.0000e+00 - val_recall_8: 0.0000e+00 - val_f1_score: 0.0000e+00\n",
            "Epoch 33/100\n",
            "1/1 [==============================] - 0s 218ms/step - loss: 0.3730 - accuracy: 0.0938 - precision_8: 0.0000e+00 - recall_8: 0.0000e+00 - f1_score: 0.0000e+00 - val_loss: 0.4014 - val_accuracy: 0.2727 - val_precision_8: 0.0000e+00 - val_recall_8: 0.0000e+00 - val_f1_score: 0.0000e+00\n",
            "Epoch 34/100\n",
            "1/1 [==============================] - 0s 315ms/step - loss: 0.3704 - accuracy: 0.0938 - precision_8: 0.0000e+00 - recall_8: 0.0000e+00 - f1_score: 0.0000e+00 - val_loss: 0.4006 - val_accuracy: 0.2727 - val_precision_8: 0.0000e+00 - val_recall_8: 0.0000e+00 - val_f1_score: 0.0000e+00\n",
            "Epoch 35/100\n",
            "1/1 [==============================] - 0s 340ms/step - loss: 0.3678 - accuracy: 0.0938 - precision_8: 0.0000e+00 - recall_8: 0.0000e+00 - f1_score: 0.0000e+00 - val_loss: 0.4000 - val_accuracy: 0.2727 - val_precision_8: 0.0000e+00 - val_recall_8: 0.0000e+00 - val_f1_score: 0.0000e+00\n",
            "Epoch 36/100\n",
            "1/1 [==============================] - 0s 313ms/step - loss: 0.3646 - accuracy: 0.0938 - precision_8: 0.0000e+00 - recall_8: 0.0000e+00 - f1_score: 0.0000e+00 - val_loss: 0.3995 - val_accuracy: 0.2727 - val_precision_8: 0.0000e+00 - val_recall_8: 0.0000e+00 - val_f1_score: 0.0000e+00\n",
            "Epoch 37/100\n",
            "1/1 [==============================] - 0s 313ms/step - loss: 0.3609 - accuracy: 0.0938 - precision_8: 0.0000e+00 - recall_8: 0.0000e+00 - f1_score: 0.0000e+00 - val_loss: 0.3992 - val_accuracy: 0.2727 - val_precision_8: 0.0000e+00 - val_recall_8: 0.0000e+00 - val_f1_score: 0.0000e+00\n",
            "Epoch 38/100\n",
            "1/1 [==============================] - 0s 286ms/step - loss: 0.3569 - accuracy: 0.0938 - precision_8: 0.0000e+00 - recall_8: 0.0000e+00 - f1_score: 0.0000e+00 - val_loss: 0.3990 - val_accuracy: 0.2727 - val_precision_8: 0.0000e+00 - val_recall_8: 0.0000e+00 - val_f1_score: 0.0000e+00\n",
            "Epoch 39/100\n",
            "1/1 [==============================] - 0s 366ms/step - loss: 0.3529 - accuracy: 0.0938 - precision_8: 0.0000e+00 - recall_8: 0.0000e+00 - f1_score: 0.0000e+00 - val_loss: 0.3990 - val_accuracy: 0.2727 - val_precision_8: 0.0000e+00 - val_recall_8: 0.0000e+00 - val_f1_score: 0.0000e+00\n",
            "Epoch 40/100\n",
            "1/1 [==============================] - 0s 444ms/step - loss: 0.3493 - accuracy: 0.0938 - precision_8: 0.0000e+00 - recall_8: 0.0000e+00 - f1_score: 0.0000e+00 - val_loss: 0.3985 - val_accuracy: 0.2727 - val_precision_8: 0.0000e+00 - val_recall_8: 0.0000e+00 - val_f1_score: 0.0000e+00\n",
            "Epoch 41/100\n",
            "1/1 [==============================] - 0s 307ms/step - loss: 0.3457 - accuracy: 0.0938 - precision_8: 1.0000 - recall_8: 0.0312 - f1_score: 0.0606 - val_loss: 0.3970 - val_accuracy: 0.2727 - val_precision_8: 0.0000e+00 - val_recall_8: 0.0000e+00 - val_f1_score: 0.0000e+00\n",
            "Epoch 42/100\n",
            "1/1 [==============================] - 0s 285ms/step - loss: 0.3413 - accuracy: 0.0938 - precision_8: 1.0000 - recall_8: 0.0938 - f1_score: 0.1714 - val_loss: 0.3945 - val_accuracy: 0.2727 - val_precision_8: 0.0000e+00 - val_recall_8: 0.0000e+00 - val_f1_score: 0.0000e+00\n",
            "Epoch 43/100\n",
            "1/1 [==============================] - 0s 368ms/step - loss: 0.3362 - accuracy: 0.0938 - precision_8: 1.0000 - recall_8: 0.1250 - f1_score: 0.2222 - val_loss: 0.3923 - val_accuracy: 0.2727 - val_precision_8: 0.0000e+00 - val_recall_8: 0.0000e+00 - val_f1_score: 0.0000e+00\n",
            "Epoch 44/100\n",
            "1/1 [==============================] - 0s 222ms/step - loss: 0.3315 - accuracy: 0.0938 - precision_8: 1.0000 - recall_8: 0.1250 - f1_score: 0.2222 - val_loss: 0.3916 - val_accuracy: 0.2727 - val_precision_8: 0.0000e+00 - val_recall_8: 0.0000e+00 - val_f1_score: 0.0000e+00\n",
            "Epoch 45/100\n",
            "1/1 [==============================] - 0s 387ms/step - loss: 0.3277 - accuracy: 0.0938 - precision_8: 1.0000 - recall_8: 0.1250 - f1_score: 0.2222 - val_loss: 0.3909 - val_accuracy: 0.2727 - val_precision_8: 0.0000e+00 - val_recall_8: 0.0000e+00 - val_f1_score: 0.0000e+00\n",
            "Epoch 46/100\n",
            "1/1 [==============================] - 0s 255ms/step - loss: 0.3241 - accuracy: 0.0938 - precision_8: 1.0000 - recall_8: 0.1719 - f1_score: 0.2933 - val_loss: 0.3879 - val_accuracy: 0.2727 - val_precision_8: 0.0000e+00 - val_recall_8: 0.0000e+00 - val_f1_score: 0.0000e+00\n",
            "Epoch 47/100\n",
            "1/1 [==============================] - 0s 267ms/step - loss: 0.3197 - accuracy: 0.0938 - precision_8: 1.0000 - recall_8: 0.1875 - f1_score: 0.3158 - val_loss: 0.3797 - val_accuracy: 0.2727 - val_precision_8: 0.0000e+00 - val_recall_8: 0.0000e+00 - val_f1_score: 0.0000e+00\n",
            "Epoch 48/100\n",
            "1/1 [==============================] - 0s 354ms/step - loss: 0.3153 - accuracy: 0.0938 - precision_8: 1.0000 - recall_8: 0.1875 - f1_score: 0.3158 - val_loss: 0.3674 - val_accuracy: 0.2727 - val_precision_8: 0.0000e+00 - val_recall_8: 0.0000e+00 - val_f1_score: 0.0000e+00\n",
            "Epoch 49/100\n",
            "1/1 [==============================] - 0s 374ms/step - loss: 0.3117 - accuracy: 0.0938 - precision_8: 1.0000 - recall_8: 0.1875 - f1_score: 0.3158 - val_loss: 0.3599 - val_accuracy: 0.2727 - val_precision_8: 1.0000 - val_recall_8: 0.1364 - val_f1_score: 0.2400\n",
            "Epoch 50/100\n",
            "1/1 [==============================] - 0s 239ms/step - loss: 0.3080 - accuracy: 0.0938 - precision_8: 1.0000 - recall_8: 0.1875 - f1_score: 0.3158 - val_loss: 0.3557 - val_accuracy: 0.2727 - val_precision_8: 1.0000 - val_recall_8: 0.1818 - val_f1_score: 0.3077\n",
            "Epoch 51/100\n",
            "1/1 [==============================] - 0s 269ms/step - loss: 0.3044 - accuracy: 0.0938 - precision_8: 1.0000 - recall_8: 0.1875 - f1_score: 0.3158 - val_loss: 0.3517 - val_accuracy: 0.2727 - val_precision_8: 1.0000 - val_recall_8: 0.1818 - val_f1_score: 0.3077\n",
            "Epoch 52/100\n",
            "1/1 [==============================] - 0s 271ms/step - loss: 0.3012 - accuracy: 0.0938 - precision_8: 1.0000 - recall_8: 0.1875 - f1_score: 0.3158 - val_loss: 0.3485 - val_accuracy: 0.2727 - val_precision_8: 1.0000 - val_recall_8: 0.1818 - val_f1_score: 0.3077\n",
            "Epoch 53/100\n",
            "1/1 [==============================] - 0s 212ms/step - loss: 0.2970 - accuracy: 0.0938 - precision_8: 1.0000 - recall_8: 0.1875 - f1_score: 0.3158 - val_loss: 0.3449 - val_accuracy: 0.2727 - val_precision_8: 1.0000 - val_recall_8: 0.1818 - val_f1_score: 0.3077\n",
            "Epoch 54/100\n",
            "1/1 [==============================] - 1s 683ms/step - loss: 0.3007 - accuracy: 0.0938 - precision_8: 0.9231 - recall_8: 0.1875 - f1_score: 0.3117 - val_loss: 0.3447 - val_accuracy: 0.2727 - val_precision_8: 1.0000 - val_recall_8: 0.1818 - val_f1_score: 0.3077\n",
            "Epoch 55/100\n",
            "1/1 [==============================] - 0s 276ms/step - loss: 0.2924 - accuracy: 0.0938 - precision_8: 1.0000 - recall_8: 0.2031 - f1_score: 0.3377 - val_loss: 0.3570 - val_accuracy: 0.1818 - val_precision_8: 1.0000 - val_recall_8: 0.1364 - val_f1_score: 0.2400\n",
            "Epoch 56/100\n",
            "1/1 [==============================] - 0s 247ms/step - loss: 0.2906 - accuracy: 0.0938 - precision_8: 1.0000 - recall_8: 0.2031 - f1_score: 0.3377 - val_loss: 0.3750 - val_accuracy: 0.0909 - val_precision_8: 0.0000e+00 - val_recall_8: 0.0000e+00 - val_f1_score: 0.0000e+00\n",
            "Epoch 57/100\n",
            "1/1 [==============================] - 0s 233ms/step - loss: 0.2880 - accuracy: 0.0938 - precision_8: 1.0000 - recall_8: 0.2031 - f1_score: 0.3377 - val_loss: 0.3965 - val_accuracy: 0.0000e+00 - val_precision_8: 0.0000e+00 - val_recall_8: 0.0000e+00 - val_f1_score: 0.0000e+00\n",
            "Epoch 58/100\n",
            "1/1 [==============================] - 0s 246ms/step - loss: 0.2847 - accuracy: 0.0938 - precision_8: 1.0000 - recall_8: 0.2031 - f1_score: 0.3377 - val_loss: 0.4026 - val_accuracy: 0.0000e+00 - val_precision_8: 0.0000e+00 - val_recall_8: 0.0000e+00 - val_f1_score: 0.0000e+00\n",
            "Epoch 59/100\n",
            "1/1 [==============================] - 0s 223ms/step - loss: 0.2807 - accuracy: 0.0938 - precision_8: 1.0000 - recall_8: 0.1875 - f1_score: 0.3158 - val_loss: 0.3981 - val_accuracy: 0.0000e+00 - val_precision_8: 0.0000e+00 - val_recall_8: 0.0000e+00 - val_f1_score: 0.0000e+00\n",
            "Epoch 60/100\n",
            "1/1 [==============================] - 0s 248ms/step - loss: 0.2763 - accuracy: 0.0938 - precision_8: 1.0000 - recall_8: 0.1875 - f1_score: 0.3158 - val_loss: 0.3874 - val_accuracy: 0.0000e+00 - val_precision_8: 0.0000e+00 - val_recall_8: 0.0000e+00 - val_f1_score: 0.0000e+00\n",
            "Epoch 61/100\n",
            "1/1 [==============================] - 0s 237ms/step - loss: 0.2719 - accuracy: 0.1875 - precision_8: 1.0000 - recall_8: 0.1875 - f1_score: 0.3158 - val_loss: 0.3719 - val_accuracy: 0.2727 - val_precision_8: 0.0000e+00 - val_recall_8: 0.0000e+00 - val_f1_score: 0.0000e+00\n",
            "Epoch 62/100\n",
            "1/1 [==============================] - 0s 276ms/step - loss: 0.2675 - accuracy: 0.1875 - precision_8: 1.0000 - recall_8: 0.1875 - f1_score: 0.3158 - val_loss: 0.3575 - val_accuracy: 0.2727 - val_precision_8: 0.0000e+00 - val_recall_8: 0.0000e+00 - val_f1_score: 0.0000e+00\n",
            "Epoch 63/100\n",
            "1/1 [==============================] - 0s 205ms/step - loss: 0.2632 - accuracy: 0.1875 - precision_8: 1.0000 - recall_8: 0.1875 - f1_score: 0.3158 - val_loss: 0.3475 - val_accuracy: 0.2727 - val_precision_8: 1.0000 - val_recall_8: 0.0455 - val_f1_score: 0.0870\n",
            "Epoch 64/100\n",
            "1/1 [==============================] - 0s 225ms/step - loss: 0.2590 - accuracy: 0.1562 - precision_8: 1.0000 - recall_8: 0.1875 - f1_score: 0.3158 - val_loss: 0.3400 - val_accuracy: 0.2727 - val_precision_8: 1.0000 - val_recall_8: 0.1364 - val_f1_score: 0.2400\n",
            "Epoch 65/100\n",
            "1/1 [==============================] - 0s 193ms/step - loss: 0.2550 - accuracy: 0.2500 - precision_8: 1.0000 - recall_8: 0.1875 - f1_score: 0.3158 - val_loss: 0.3348 - val_accuracy: 0.2727 - val_precision_8: 1.0000 - val_recall_8: 0.1818 - val_f1_score: 0.3077\n",
            "Epoch 66/100\n",
            "1/1 [==============================] - 0s 225ms/step - loss: 0.2512 - accuracy: 0.2812 - precision_8: 1.0000 - recall_8: 0.1875 - f1_score: 0.3158 - val_loss: 0.3313 - val_accuracy: 0.2727 - val_precision_8: 1.0000 - val_recall_8: 0.1818 - val_f1_score: 0.3077\n",
            "Epoch 67/100\n",
            "1/1 [==============================] - 0s 213ms/step - loss: 0.2475 - accuracy: 0.2500 - precision_8: 1.0000 - recall_8: 0.1875 - f1_score: 0.3158 - val_loss: 0.3285 - val_accuracy: 0.2727 - val_precision_8: 1.0000 - val_recall_8: 0.1818 - val_f1_score: 0.3077\n",
            "Epoch 68/100\n",
            "1/1 [==============================] - 0s 254ms/step - loss: 0.2438 - accuracy: 0.2812 - precision_8: 1.0000 - recall_8: 0.2031 - f1_score: 0.3377 - val_loss: 0.3263 - val_accuracy: 0.2727 - val_precision_8: 1.0000 - val_recall_8: 0.1818 - val_f1_score: 0.3077\n",
            "Epoch 69/100\n",
            "1/1 [==============================] - 0s 249ms/step - loss: 0.2400 - accuracy: 0.2812 - precision_8: 1.0000 - recall_8: 0.2656 - f1_score: 0.4198 - val_loss: 0.3250 - val_accuracy: 0.2727 - val_precision_8: 1.0000 - val_recall_8: 0.1818 - val_f1_score: 0.3077\n",
            "Epoch 70/100\n",
            "1/1 [==============================] - 0s 209ms/step - loss: 0.2362 - accuracy: 0.2812 - precision_8: 1.0000 - recall_8: 0.2812 - f1_score: 0.4390 - val_loss: 0.3241 - val_accuracy: 0.2727 - val_precision_8: 1.0000 - val_recall_8: 0.1364 - val_f1_score: 0.2400\n",
            "Epoch 71/100\n",
            "1/1 [==============================] - 0s 142ms/step - loss: 0.2320 - accuracy: 0.2812 - precision_8: 1.0000 - recall_8: 0.2812 - f1_score: 0.4390 - val_loss: 0.3226 - val_accuracy: 0.3636 - val_precision_8: 1.0000 - val_recall_8: 0.1364 - val_f1_score: 0.2400\n",
            "Epoch 72/100\n",
            "1/1 [==============================] - 0s 141ms/step - loss: 0.2276 - accuracy: 0.2812 - precision_8: 1.0000 - recall_8: 0.3125 - f1_score: 0.4762 - val_loss: 0.3200 - val_accuracy: 0.3636 - val_precision_8: 1.0000 - val_recall_8: 0.1364 - val_f1_score: 0.2400\n",
            "Epoch 73/100\n",
            "1/1 [==============================] - 0s 131ms/step - loss: 0.2231 - accuracy: 0.2812 - precision_8: 1.0000 - recall_8: 0.3750 - f1_score: 0.5455 - val_loss: 0.3172 - val_accuracy: 0.3636 - val_precision_8: 1.0000 - val_recall_8: 0.1364 - val_f1_score: 0.2400\n",
            "Epoch 74/100\n",
            "1/1 [==============================] - 0s 173ms/step - loss: 0.2187 - accuracy: 0.2188 - precision_8: 1.0000 - recall_8: 0.3750 - f1_score: 0.5455 - val_loss: 0.3154 - val_accuracy: 0.3636 - val_precision_8: 1.0000 - val_recall_8: 0.1364 - val_f1_score: 0.2400\n",
            "Epoch 75/100\n",
            "1/1 [==============================] - 0s 132ms/step - loss: 0.2147 - accuracy: 0.1250 - precision_8: 1.0000 - recall_8: 0.3906 - f1_score: 0.5618 - val_loss: 0.3145 - val_accuracy: 0.3636 - val_precision_8: 1.0000 - val_recall_8: 0.1364 - val_f1_score: 0.2400\n",
            "Epoch 76/100\n",
            "1/1 [==============================] - 0s 130ms/step - loss: 0.2108 - accuracy: 0.1250 - precision_8: 1.0000 - recall_8: 0.3906 - f1_score: 0.5618 - val_loss: 0.3138 - val_accuracy: 0.3636 - val_precision_8: 1.0000 - val_recall_8: 0.0909 - val_f1_score: 0.1667\n",
            "Epoch 77/100\n",
            "1/1 [==============================] - 0s 131ms/step - loss: 0.2070 - accuracy: 0.1250 - precision_8: 1.0000 - recall_8: 0.3906 - f1_score: 0.5618 - val_loss: 0.3128 - val_accuracy: 0.3636 - val_precision_8: 1.0000 - val_recall_8: 0.0909 - val_f1_score: 0.1667\n",
            "Epoch 78/100\n",
            "1/1 [==============================] - 0s 157ms/step - loss: 0.2031 - accuracy: 0.1250 - precision_8: 1.0000 - recall_8: 0.4062 - f1_score: 0.5778 - val_loss: 0.3113 - val_accuracy: 0.3636 - val_precision_8: 1.0000 - val_recall_8: 0.1364 - val_f1_score: 0.2400\n",
            "Epoch 79/100\n",
            "1/1 [==============================] - 0s 145ms/step - loss: 0.1992 - accuracy: 0.1250 - precision_8: 1.0000 - recall_8: 0.4375 - f1_score: 0.6087 - val_loss: 0.3086 - val_accuracy: 0.3636 - val_precision_8: 1.0000 - val_recall_8: 0.1364 - val_f1_score: 0.2400\n",
            "Epoch 80/100\n",
            "1/1 [==============================] - 0s 145ms/step - loss: 0.1953 - accuracy: 0.1250 - precision_8: 1.0000 - recall_8: 0.5156 - f1_score: 0.6804 - val_loss: 0.3042 - val_accuracy: 0.3636 - val_precision_8: 1.0000 - val_recall_8: 0.1364 - val_f1_score: 0.2400\n",
            "Epoch 81/100\n",
            "1/1 [==============================] - 0s 149ms/step - loss: 0.1913 - accuracy: 0.1250 - precision_8: 1.0000 - recall_8: 0.5469 - f1_score: 0.7071 - val_loss: 0.2954 - val_accuracy: 0.3636 - val_precision_8: 1.0000 - val_recall_8: 0.1818 - val_f1_score: 0.3077\n",
            "Epoch 82/100\n",
            "1/1 [==============================] - 0s 138ms/step - loss: 0.1875 - accuracy: 0.1562 - precision_8: 1.0000 - recall_8: 0.6094 - f1_score: 0.7573 - val_loss: 0.2895 - val_accuracy: 0.3636 - val_precision_8: 1.0000 - val_recall_8: 0.2727 - val_f1_score: 0.4286\n",
            "Epoch 83/100\n",
            "1/1 [==============================] - 0s 143ms/step - loss: 0.1838 - accuracy: 0.1875 - precision_8: 1.0000 - recall_8: 0.6719 - f1_score: 0.8037 - val_loss: 0.2873 - val_accuracy: 0.3636 - val_precision_8: 1.0000 - val_recall_8: 0.2727 - val_f1_score: 0.4286\n",
            "Epoch 84/100\n",
            "1/1 [==============================] - 0s 139ms/step - loss: 0.1801 - accuracy: 0.2188 - precision_8: 1.0000 - recall_8: 0.7812 - f1_score: 0.8772 - val_loss: 0.2901 - val_accuracy: 0.3636 - val_precision_8: 1.0000 - val_recall_8: 0.2727 - val_f1_score: 0.4286\n",
            "Epoch 85/100\n",
            "1/1 [==============================] - 0s 155ms/step - loss: 0.1768 - accuracy: 0.2812 - precision_8: 1.0000 - recall_8: 0.7812 - f1_score: 0.8772 - val_loss: 0.2801 - val_accuracy: 0.3636 - val_precision_8: 1.0000 - val_recall_8: 0.2727 - val_f1_score: 0.4286\n",
            "Epoch 86/100\n",
            "1/1 [==============================] - 0s 129ms/step - loss: 0.1733 - accuracy: 0.2500 - precision_8: 1.0000 - recall_8: 0.7812 - f1_score: 0.8772 - val_loss: 0.2762 - val_accuracy: 0.3636 - val_precision_8: 1.0000 - val_recall_8: 0.2727 - val_f1_score: 0.4286\n",
            "Epoch 87/100\n",
            "1/1 [==============================] - 0s 138ms/step - loss: 0.1701 - accuracy: 0.2500 - precision_8: 1.0000 - recall_8: 0.7656 - f1_score: 0.8673 - val_loss: 0.2716 - val_accuracy: 0.3636 - val_precision_8: 1.0000 - val_recall_8: 0.3182 - val_f1_score: 0.4828\n",
            "Epoch 88/100\n",
            "1/1 [==============================] - 0s 135ms/step - loss: 0.1665 - accuracy: 0.2500 - precision_8: 1.0000 - recall_8: 0.7969 - f1_score: 0.8870 - val_loss: 0.2669 - val_accuracy: 0.3636 - val_precision_8: 1.0000 - val_recall_8: 0.3182 - val_f1_score: 0.4828\n",
            "Epoch 89/100\n",
            "1/1 [==============================] - 0s 129ms/step - loss: 0.1631 - accuracy: 0.2500 - precision_8: 1.0000 - recall_8: 0.7969 - f1_score: 0.8870 - val_loss: 0.2638 - val_accuracy: 0.3636 - val_precision_8: 1.0000 - val_recall_8: 0.3182 - val_f1_score: 0.4828\n",
            "Epoch 90/100\n",
            "1/1 [==============================] - 0s 132ms/step - loss: 0.1599 - accuracy: 0.2500 - precision_8: 1.0000 - recall_8: 0.7969 - f1_score: 0.8870 - val_loss: 0.2614 - val_accuracy: 0.3636 - val_precision_8: 1.0000 - val_recall_8: 0.3636 - val_f1_score: 0.5333\n",
            "Epoch 91/100\n",
            "1/1 [==============================] - 0s 131ms/step - loss: 0.1569 - accuracy: 0.2500 - precision_8: 0.9818 - recall_8: 0.8438 - f1_score: 0.9076 - val_loss: 0.2578 - val_accuracy: 0.3636 - val_precision_8: 1.0000 - val_recall_8: 0.4091 - val_f1_score: 0.5806\n",
            "Epoch 92/100\n",
            "1/1 [==============================] - 0s 152ms/step - loss: 0.1537 - accuracy: 0.2500 - precision_8: 0.9825 - recall_8: 0.8750 - f1_score: 0.9256 - val_loss: 0.2530 - val_accuracy: 0.3636 - val_precision_8: 1.0000 - val_recall_8: 0.4091 - val_f1_score: 0.5806\n",
            "Epoch 93/100\n",
            "1/1 [==============================] - 0s 131ms/step - loss: 0.1506 - accuracy: 0.2500 - precision_8: 0.9825 - recall_8: 0.8750 - f1_score: 0.9256 - val_loss: 0.2478 - val_accuracy: 0.3636 - val_precision_8: 1.0000 - val_recall_8: 0.4091 - val_f1_score: 0.5806\n",
            "Epoch 94/100\n",
            "1/1 [==============================] - 0s 138ms/step - loss: 0.1475 - accuracy: 0.3125 - precision_8: 0.9825 - recall_8: 0.8750 - f1_score: 0.9256 - val_loss: 0.2446 - val_accuracy: 0.3636 - val_precision_8: 1.0000 - val_recall_8: 0.3636 - val_f1_score: 0.5333\n",
            "Epoch 95/100\n",
            "1/1 [==============================] - 0s 127ms/step - loss: 0.1489 - accuracy: 0.3125 - precision_8: 0.9818 - recall_8: 0.8438 - f1_score: 0.9076 - val_loss: 0.2748 - val_accuracy: 0.3636 - val_precision_8: 0.9000 - val_recall_8: 0.4091 - val_f1_score: 0.5625\n",
            "Epoch 96/100\n",
            "1/1 [==============================] - 0s 131ms/step - loss: 0.1435 - accuracy: 0.3125 - precision_8: 0.9825 - recall_8: 0.8750 - f1_score: 0.9256 - val_loss: 0.3663 - val_accuracy: 0.0909 - val_precision_8: 0.7778 - val_recall_8: 0.3182 - val_f1_score: 0.4516\n",
            "Epoch 97/100\n",
            "1/1 [==============================] - 0s 139ms/step - loss: 0.1435 - accuracy: 0.3438 - precision_8: 0.9825 - recall_8: 0.8750 - f1_score: 0.9256 - val_loss: 0.3796 - val_accuracy: 0.0909 - val_precision_8: 0.7778 - val_recall_8: 0.3182 - val_f1_score: 0.4516\n",
            "Epoch 98/100\n",
            "1/1 [==============================] - 0s 135ms/step - loss: 0.1444 - accuracy: 0.3438 - precision_8: 0.9825 - recall_8: 0.8750 - f1_score: 0.9256 - val_loss: 0.3697 - val_accuracy: 0.0909 - val_precision_8: 1.0000 - val_recall_8: 0.2727 - val_f1_score: 0.4286\n",
            "Epoch 99/100\n",
            "1/1 [==============================] - 0s 147ms/step - loss: 0.1366 - accuracy: 0.3438 - precision_8: 0.9825 - recall_8: 0.8750 - f1_score: 0.9256 - val_loss: 0.3121 - val_accuracy: 0.2727 - val_precision_8: 1.0000 - val_recall_8: 0.2273 - val_f1_score: 0.3704\n",
            "Epoch 100/100\n",
            "1/1 [==============================] - 0s 136ms/step - loss: 0.1334 - accuracy: 0.3438 - precision_8: 1.0000 - recall_8: 0.8750 - f1_score: 0.9333 - val_loss: 0.2782 - val_accuracy: 0.3636 - val_precision_8: 1.0000 - val_recall_8: 0.3636 - val_f1_score: 0.5333\n"
          ]
        }
      ]
    },
    {
      "cell_type": "code",
      "source": [
        "import matplotlib.pyplot as plt\n",
        "\n",
        "metrics_names = ['loss', 'accuracy', 'precision', 'recall', 'f1_score']  # Adjust according to the metrics you have compiled your model with\n",
        "\n",
        "# Extract the metrics other than loss (starting from index 1 if index 0 is loss)\n",
        "results = eval_results[1:]  # This assumes loss is at index 0, adjust if your setup is different\n",
        "metrics_names = metrics_names[1:]  # Adjusting to skip 'loss'\n",
        "\n",
        "# Create a bar graph\n",
        "plt.figure(figsize=(10, 6))\n",
        "plt.bar(metrics_names, results, color=['blue', 'green', 'red', 'purple'])  # Colors as in your example\n",
        "for i, v in enumerate(results):\n",
        "    plt.text(i, v + 0.01, f\"{v:.2f}\", ha='center', va='bottom')  # Add text on top of the bars\n",
        "\n",
        "plt.ylim(0, 1)  # Assuming the metric values are between 0 and 1\n",
        "plt.title('Evaluation Results')\n",
        "plt.ylabel('Values')\n",
        "plt.show()\n"
      ],
      "metadata": {
        "colab": {
          "base_uri": "https://localhost:8080/",
          "height": 545
        },
        "id": "2gTT49nm8ukx",
        "outputId": "2ebc066c-5de7-4672-cb46-89fe9c2aa10b"
      },
      "execution_count": 39,
      "outputs": [
        {
          "output_type": "display_data",
          "data": {
            "text/plain": [
              "<Figure size 1000x600 with 1 Axes>"
            ],
            "image/png": "[encoded data removed]"
          },
          "metadata": {}
        }
      ]
    }
  ]
}