{
  "nbformat": 4,
  "nbformat_minor": 0,
  "metadata": {
    "colab": {
      "provenance": []
    },
    "kernelspec": {
      "name": "python3",
      "display_name": "Python 3"
    },
    "language_info": {
      "name": "python"
    }
  },
  "cells": [
    {
      "cell_type": "code",
      "source": [
        "from google.colab import drive\n",
        "drive.mount('/content/drive')"
      ],
      "metadata": {
        "colab": {
          "base_uri": "https://localhost:8080/"
        },
        "id": "Ji2RW0Ce_xat",
        "outputId": "b0e4f07f-daee-400d-e753-d965a9737068"
      },
      "execution_count": 14,
      "outputs": [
        {
          "output_type": "stream",
          "name": "stdout",
          "text": [
            "Drive already mounted at /content/drive; to attempt to forcibly remount, call drive.mount(\"/content/drive\", force_remount=True).\n"
          ]
        }
      ]
    },
    {
      "cell_type": "code",
      "source": [
        "import pandas as pd\n",
        "data_path = '/content/drive/My Drive/Final-Uni-Project/Language-Identification-in-songs/Chara-Based-Model/Jupyter-Scripts/DataSets/Main_Full_Corrected_Updated_Lyrics_Training_Data (1).xlsx'\n",
        "df = pd.read_excel(data_path)"
      ],
      "metadata": {
        "id": "YPrESM1c_cRe"
      },
      "execution_count": 15,
      "outputs": []
    },
    {
      "cell_type": "code",
      "source": [
        "import pandas as pd\n",
        "from sklearn.model_selection import train_test_split\n",
        "from sklearn.feature_extraction.text import TfidfVectorizer\n",
        "from sklearn.pipeline import Pipeline\n",
        "from sklearn.naive_bayes import MultinomialNB\n",
        "from sklearn.metrics import accuracy_score\n",
        "import unicodedata\n",
        "import re"
      ],
      "metadata": {
        "id": "d5nKyP4xO2si"
      },
      "execution_count": 16,
      "outputs": []
    },
    {
      "cell_type": "code",
      "source": [
        "# Function to normalize text\n",
        "def normalize_text(texts):\n",
        "    normalized_texts = []\n",
        "    keep_punctuation = {\"'\", \"-\", \"’\", \":\", \",\", \".\", \"!\", \"?\", \";\"}\n",
        "    for text in texts:\n",
        "        try:\n",
        "            text = str(text).lower()  # Convert to lowercase\n",
        "            text = ' '.join(text.split())  # Normalize whitespace\n",
        "            text = ''.join(\n",
        "                char for char in text\n",
        "                if unicodedata.category(char)[0] in ('L', 'N', 'Z')  # Letter, number, or space\n",
        "                or char in keep_punctuation  # Retain specific punctuation\n",
        "            )\n",
        "            text = re.sub(r'\\b\\d+\\b', ' ', text)  # Remove standalone numbers\n",
        "            text = re.sub(r'[\\.\\,\\!\\?\\;\\:]+(?=[\\.\\,\\!\\?\\;\\:])', '', text)  # Remove excessive punctuation\n",
        "            text = ' '.join(text.split())  # Remove extra spaces\n",
        "            normalized_texts.append(text)\n",
        "        except Exception as e:\n",
        "            print(f\"Error processing text: {text} with error {e}\")\n",
        "            normalized_texts.append(\"\")\n",
        "    return normalized_texts"
      ],
      "metadata": {
        "id": "Oka1HNRUOT-D"
      },
      "execution_count": 17,
      "outputs": []
    },
    {
      "cell_type": "code",
      "source": [
        "# Remove any missing values\n",
        "df.dropna(inplace=True)\n",
        "\n",
        "# Apply the normalization to the 'lyrics' column\n",
        "df['lyrics_normalized'] = normalize_text(df['lyrics'].tolist())\n",
        "\n",
        "# Splitting the data\n",
        "X = df['lyrics_normalized']  # Use normalized lyrics as features\n",
        "y = df['language_label']  # Target variable\n",
        "\n",
        "\n",
        "# Split the dataset into training and testing sets\n",
        "X_train, X_test, y_train, y_test = train_test_split(X, y, test_size=0.2, random_state=42)"
      ],
      "metadata": {
        "id": "BCLntBVu91CA"
      },
      "execution_count": 18,
      "outputs": []
    },
    {
      "cell_type": "code",
      "source": [
        "from sklearn.feature_extraction.text import TfidfVectorizer\n",
        "from sklearn.svm import SVC\n",
        "from sklearn.pipeline import Pipeline\n",
        "from sklearn.model_selection import GridSearchCV\n",
        "\n",
        "# TF-IDF Vectorization and SVM Training\n",
        "# Create a pipeline with TF-IDF vectorizer and SVM classifier\n",
        "pipeline = Pipeline([\n",
        "    ('tfidf', TfidfVectorizer(lowercase=True)),\n",
        "    ('svm', SVC(probability=True))\n",
        "])\n",
        "\n",
        "# Parameters for GridSearchCV\n",
        "parameters = {\n",
        "    'tfidf__max_features': (None, 1000, 5000),\n",
        "    'tfidf__ngram_range': ((1, 1), (1, 2)),  # Unigrams or bigrams\n",
        "    'svm__C': (0.1, 1, 10),\n",
        "    'svm__kernel': ('linear', 'rbf')\n",
        "}\n",
        "\n",
        "# Perform grid search with cross-validation\n",
        "grid_search = GridSearchCV(pipeline, parameters, cv=5, n_jobs=-1)\n",
        "\n",
        "grid_search.fit(X_train, y_train)\n",
        "\n",
        "# Best parameter set\n",
        "print(\"Best parameters set:\")\n",
        "print(grid_search.best_params_)\n"
      ],
      "metadata": {
        "id": "2pwt5Mrr-W8b",
        "colab": {
          "base_uri": "https://localhost:8080/"
        },
        "outputId": "0ebbd217-3cb2-4f2c-9a81-1cc11c0c5096"
      },
      "execution_count": 19,
      "outputs": [
        {
          "output_type": "stream",
          "name": "stderr",
          "text": [
            "/usr/local/lib/python3.10/dist-packages/sklearn/model_selection/_split.py:700: UserWarning: The least populated class in y has only 1 members, which is less than n_splits=5.\n",
            "  warnings.warn(\n"
          ]
        },
        {
          "output_type": "stream",
          "name": "stdout",
          "text": [
            "Best parameters set:\n",
            "{'svm__C': 10, 'svm__kernel': 'linear', 'tfidf__max_features': None, 'tfidf__ngram_range': (1, 1)}\n"
          ]
        }
      ]
    },
    {
      "cell_type": "code",
      "source": [
        "from sklearn.metrics import classification_report\n",
        "\n",
        "# Predictions on the test set\n",
        "y_pred = grid_search.predict(X_test)\n",
        "\n",
        "# Evaluation\n",
        "print(classification_report(y_test, y_pred))\n"
      ],
      "metadata": {
        "id": "RBlk79Cx-Z8b",
        "colab": {
          "base_uri": "https://localhost:8080/"
        },
        "outputId": "287c1fce-2d9a-4e81-c688-a1bdc396705e"
      },
      "execution_count": 20,
      "outputs": [
        {
          "output_type": "stream",
          "name": "stdout",
          "text": [
            "              precision    recall  f1-score   support\n",
            "\n",
            "          AR       1.00      1.00      1.00         1\n",
            "          DE       1.00      1.00      1.00         1\n",
            "          IT       1.00      1.00      1.00         1\n",
            "          KO       1.00      1.00      1.00         2\n",
            "          PT       1.00      1.00      1.00         1\n",
            "          RU       1.00      1.00      1.00         2\n",
            "\n",
            "    accuracy                           1.00         8\n",
            "   macro avg       1.00      1.00      1.00         8\n",
            "weighted avg       1.00      1.00      1.00         8\n",
            "\n"
          ]
        }
      ]
    },
    {
      "cell_type": "code",
      "source": [
        "from sklearn.metrics import confusion_matrix\n",
        "\n",
        "# Confusion matrix\n",
        "conf_matrix = confusion_matrix(y_test, y_pred)\n",
        "print(conf_matrix)\n",
        "\n",
        "# Analyze the confusion matrix to identify specific misclassifications\n"
      ],
      "metadata": {
        "id": "F2EABLCj-bTh",
        "colab": {
          "base_uri": "https://localhost:8080/"
        },
        "outputId": "d257486c-53ea-41cb-dd4b-015f511fbe4b"
      },
      "execution_count": 21,
      "outputs": [
        {
          "output_type": "stream",
          "name": "stdout",
          "text": [
            "[[1 0 0 0 0 0]\n",
            " [0 1 0 0 0 0]\n",
            " [0 0 1 0 0 0]\n",
            " [0 0 0 2 0 0]\n",
            " [0 0 0 0 1 0]\n",
            " [0 0 0 0 0 2]]\n"
          ]
        }
      ]
    },
    {
      "cell_type": "code",
      "source": [
        "import pandas as pd\n",
        "from sklearn.model_selection import train_test_split\n",
        "from sklearn.feature_extraction.text import TfidfVectorizer\n",
        "from sklearn.pipeline import Pipeline\n",
        "from sklearn.svm import SVC\n",
        "from nltk.stem import WordNetLemmatizer\n",
        "from nltk import word_tokenize\n",
        "from nltk.corpus import stopwords\n",
        "import nltk\n",
        "nltk.download('punkt')\n",
        "nltk.download('wordnet')\n",
        "nltk.download('stopwords')\n",
        "\n",
        "\n",
        "# Advanced Preprocessing\n",
        "class LemmaTokenizer:\n",
        "    def __init__(self):\n",
        "        self.wnl = WordNetLemmatizer()\n",
        "    def __call__(self, articles):\n",
        "        return [self.wnl.lemmatize(t) for t in word_tokenize(articles) if t.isalpha() and t not in stopwords.words('english')]\n",
        "\n",
        "pipeline = Pipeline([\n",
        "    ('tfidf', TfidfVectorizer(tokenizer=LemmaTokenizer(), ngram_range=(1, 2))),\n",
        "    ('svm', SVC(C=1, kernel='linear', probability=True))\n",
        "])\n",
        "\n",
        "# Split dataset\n",
        "X_train, X_test, y_train, y_test = train_test_split(df['lyrics'], df['language_label'], test_size=0.2, random_state=42)\n",
        "\n",
        "# Fit and evaluate as before\n",
        "pipeline.fit(X_train, y_train)\n",
        "y_pred = pipeline.predict(X_test)\n",
        "print(classification_report(y_test, y_pred))\n"
      ],
      "metadata": {
        "id": "sP_1rlww-cQo",
        "colab": {
          "base_uri": "https://localhost:8080/"
        },
        "outputId": "e2a0eb3d-1ee4-4e93-e807-cba792a44177"
      },
      "execution_count": 22,
      "outputs": [
        {
          "output_type": "stream",
          "name": "stderr",
          "text": [
            "[nltk_data] Downloading package punkt to /root/nltk_data...\n",
            "[nltk_data]   Package punkt is already up-to-date!\n",
            "[nltk_data] Downloading package wordnet to /root/nltk_data...\n",
            "[nltk_data]   Package wordnet is already up-to-date!\n",
            "[nltk_data] Downloading package stopwords to /root/nltk_data...\n",
            "[nltk_data]   Package stopwords is already up-to-date!\n",
            "/usr/local/lib/python3.10/dist-packages/sklearn/feature_extraction/text.py:528: UserWarning: The parameter 'token_pattern' will not be used since 'tokenizer' is not None'\n",
            "  warnings.warn(\n"
          ]
        },
        {
          "output_type": "stream",
          "name": "stdout",
          "text": [
            "              precision    recall  f1-score   support\n",
            "\n",
            "          AR       1.00      1.00      1.00         1\n",
            "          DE       1.00      1.00      1.00         1\n",
            "          IT       0.00      0.00      0.00         1\n",
            "          KO       1.00      1.00      1.00         2\n",
            "          PT       1.00      1.00      1.00         1\n",
            "          RU       1.00      1.00      1.00         2\n",
            "          SW       0.00      0.00      0.00         0\n",
            "\n",
            "    accuracy                           0.88         8\n",
            "   macro avg       0.71      0.71      0.71         8\n",
            "weighted avg       0.88      0.88      0.88         8\n",
            "\n"
          ]
        },
        {
          "output_type": "stream",
          "name": "stderr",
          "text": [
            "/usr/local/lib/python3.10/dist-packages/sklearn/metrics/_classification.py:1344: UndefinedMetricWarning: Precision and F-score are ill-defined and being set to 0.0 in labels with no predicted samples. Use `zero_division` parameter to control this behavior.\n",
            "  _warn_prf(average, modifier, msg_start, len(result))\n",
            "/usr/local/lib/python3.10/dist-packages/sklearn/metrics/_classification.py:1344: UndefinedMetricWarning: Recall and F-score are ill-defined and being set to 0.0 in labels with no true samples. Use `zero_division` parameter to control this behavior.\n",
            "  _warn_prf(average, modifier, msg_start, len(result))\n",
            "/usr/local/lib/python3.10/dist-packages/sklearn/metrics/_classification.py:1344: UndefinedMetricWarning: Precision and F-score are ill-defined and being set to 0.0 in labels with no predicted samples. Use `zero_division` parameter to control this behavior.\n",
            "  _warn_prf(average, modifier, msg_start, len(result))\n",
            "/usr/local/lib/python3.10/dist-packages/sklearn/metrics/_classification.py:1344: UndefinedMetricWarning: Recall and F-score are ill-defined and being set to 0.0 in labels with no true samples. Use `zero_division` parameter to control this behavior.\n",
            "  _warn_prf(average, modifier, msg_start, len(result))\n",
            "/usr/local/lib/python3.10/dist-packages/sklearn/metrics/_classification.py:1344: UndefinedMetricWarning: Precision and F-score are ill-defined and being set to 0.0 in labels with no predicted samples. Use `zero_division` parameter to control this behavior.\n",
            "  _warn_prf(average, modifier, msg_start, len(result))\n",
            "/usr/local/lib/python3.10/dist-packages/sklearn/metrics/_classification.py:1344: UndefinedMetricWarning: Recall and F-score are ill-defined and being set to 0.0 in labels with no true samples. Use `zero_division` parameter to control this behavior.\n",
            "  _warn_prf(average, modifier, msg_start, len(result))\n"
          ]
        }
      ]
    },
    {
      "cell_type": "code",
      "source": [
        "import pandas as pd\n",
        "from sklearn.model_selection import train_test_split\n",
        "from sklearn.feature_extraction.text import TfidfVectorizer\n",
        "from sklearn.pipeline import Pipeline\n",
        "from sklearn.svm import SVC\n",
        "from sklearn.metrics import classification_report, accuracy_score\n",
        "from nltk.stem import WordNetLemmatizer\n",
        "from nltk import word_tokenize\n",
        "from nltk.corpus import stopwords\n",
        "import nltk\n",
        "nltk.download('punkt')\n",
        "nltk.download('wordnet')\n",
        "nltk.download('stopwords')\n",
        "\n",
        "# Advanced Preprocessing\n",
        "class LemmaTokenizer:\n",
        "    def __init__(self):\n",
        "        self.wnl = WordNetLemmatizer()\n",
        "        self.stop_words = stopwords.words('english')  # Optimize by loading stopwords once\n",
        "\n",
        "    def __call__(self, articles):\n",
        "        return [self.wnl.lemmatize(t) for t in word_tokenize(articles.lower()) if t.isalpha() and t not in self.stop_words]\n",
        "\n",
        "# Setup pipeline\n",
        "pipeline = Pipeline([\n",
        "    ('tfidf', TfidfVectorizer(tokenizer=LemmaTokenizer(), ngram_range=(1, 2))),\n",
        "    ('svm', SVC(C=1, kernel='linear', probability=True))\n",
        "])\n",
        "\n",
        "# Split the dataset\n",
        "X_train, X_test, y_train, y_test = train_test_split(df['lyrics'], df['language_label'], test_size=0.2, random_state=42)\n",
        "\n",
        "# Fit the model\n",
        "pipeline.fit(X_train, y_train)\n",
        "\n",
        "# Predict on the test set\n",
        "y_pred = pipeline.predict(X_test)\n",
        "\n",
        "# Evaluation\n",
        "report = classification_report(y_test, y_pred, output_dict=True)\n",
        "accuracy = accuracy_score(y_test, y_pred)\n",
        "\n",
        "# Print overall metrics\n",
        "print(\"Classification Report:\")\n",
        "print(f\"Precision: {report['macro avg']['precision']:.2f}\")\n",
        "print(f\"Recall: {report['macro avg']['recall']:.2f}\")\n",
        "print(f\"F1-Score: {report['macro avg']['f1-score']:.2f}\")\n",
        "print(f\"Accuracy: {accuracy:.2f}\")\n"
      ],
      "metadata": {
        "id": "fw32gKKm-eTe",
        "colab": {
          "base_uri": "https://localhost:8080/"
        },
        "outputId": "c8573fdd-712a-42fb-b0d7-9c2620bbc900"
      },
      "execution_count": 23,
      "outputs": [
        {
          "output_type": "stream",
          "name": "stdout",
          "text": [
            "Classification Report:\n",
            "Precision: 0.71\n",
            "Recall: 0.71\n",
            "F1-Score: 0.71\n",
            "Accuracy: 0.88\n"
          ]
        },
        {
          "output_type": "stream",
          "name": "stderr",
          "text": [
            "[nltk_data] Downloading package punkt to /root/nltk_data...\n",
            "[nltk_data]   Package punkt is already up-to-date!\n",
            "[nltk_data] Downloading package wordnet to /root/nltk_data...\n",
            "[nltk_data]   Package wordnet is already up-to-date!\n",
            "[nltk_data] Downloading package stopwords to /root/nltk_data...\n",
            "[nltk_data]   Package stopwords is already up-to-date!\n",
            "/usr/local/lib/python3.10/dist-packages/sklearn/feature_extraction/text.py:528: UserWarning: The parameter 'token_pattern' will not be used since 'tokenizer' is not None'\n",
            "  warnings.warn(\n",
            "/usr/local/lib/python3.10/dist-packages/sklearn/metrics/_classification.py:1344: UndefinedMetricWarning: Precision and F-score are ill-defined and being set to 0.0 in labels with no predicted samples. Use `zero_division` parameter to control this behavior.\n",
            "  _warn_prf(average, modifier, msg_start, len(result))\n",
            "/usr/local/lib/python3.10/dist-packages/sklearn/metrics/_classification.py:1344: UndefinedMetricWarning: Recall and F-score are ill-defined and being set to 0.0 in labels with no true samples. Use `zero_division` parameter to control this behavior.\n",
            "  _warn_prf(average, modifier, msg_start, len(result))\n",
            "/usr/local/lib/python3.10/dist-packages/sklearn/metrics/_classification.py:1344: UndefinedMetricWarning: Precision and F-score are ill-defined and being set to 0.0 in labels with no predicted samples. Use `zero_division` parameter to control this behavior.\n",
            "  _warn_prf(average, modifier, msg_start, len(result))\n",
            "/usr/local/lib/python3.10/dist-packages/sklearn/metrics/_classification.py:1344: UndefinedMetricWarning: Recall and F-score are ill-defined and being set to 0.0 in labels with no true samples. Use `zero_division` parameter to control this behavior.\n",
            "  _warn_prf(average, modifier, msg_start, len(result))\n",
            "/usr/local/lib/python3.10/dist-packages/sklearn/metrics/_classification.py:1344: UndefinedMetricWarning: Precision and F-score are ill-defined and being set to 0.0 in labels with no predicted samples. Use `zero_division` parameter to control this behavior.\n",
            "  _warn_prf(average, modifier, msg_start, len(result))\n",
            "/usr/local/lib/python3.10/dist-packages/sklearn/metrics/_classification.py:1344: UndefinedMetricWarning: Recall and F-score are ill-defined and being set to 0.0 in labels with no true samples. Use `zero_division` parameter to control this behavior.\n",
            "  _warn_prf(average, modifier, msg_start, len(result))\n"
          ]
        }
      ]
    },
    {
      "cell_type": "code",
      "source": [
        "import matplotlib.pyplot as plt\n",
        "\n",
        "\n",
        "# Extracting values from the dictionary\n",
        "precision = report['macro avg']['precision']\n",
        "recall = report['macro avg']['recall']\n",
        "f1_score = report['macro avg']['f1-score']\n",
        "\n",
        "# Names of the metrics\n",
        "metrics = ['Precision', 'Recall', 'F1-Score', 'Accuracy']\n",
        "values = [precision, recall, f1_score, accuracy]\n",
        "\n",
        "# Creating the bar graph\n",
        "plt.figure(figsize=(10, 5))\n",
        "plt.bar(metrics, values, color=['blue', 'green', 'red', 'purple'])\n",
        "plt.xlabel('Metrics')\n",
        "plt.ylabel('Values')\n",
        "plt.title('Classification Metrics')\n",
        "plt.ylim(0, 1)\n",
        "plt.show()\n"
      ],
      "metadata": {
        "colab": {
          "base_uri": "https://localhost:8080/",
          "height": 487
        },
        "id": "Xvg8MjS0LjEQ",
        "outputId": "48488e32-5c58-4707-fa2b-cace804c0a70"
      },
      "execution_count": 24,
      "outputs": [
        {
          "output_type": "display_data",
          "data": {
            "text/plain": [
              "<Figure size 1000x500 with 1 Axes>"
            ],
            "image/png": "[encoded data removed]"
          },
          "metadata": {}
        }
      ]
    },
    {
      "cell_type": "code",
      "source": [
        "# Example text input\n",
        "text_input = [\"Bonjour, cómo estás? I hope you are doing well. مرحبا بكم في عالم متعدد اللغات.\"]\n",
        "\n",
        "# Use the pipeline to predict the language\n",
        "predicted_language = pipeline.predict(text_input)\n",
        "\n",
        "# Print the predicted language\n",
        "print(\"Predicted Language:\", predicted_language[0])\n"
      ],
      "metadata": {
        "id": "ND-CRwqdTwbf"
      },
      "execution_count": null,
      "outputs": []
    }
  ]
}